{
 "cells": [
  {
   "cell_type": "code",
   "execution_count": 1,
   "metadata": {},
   "outputs": [],
   "source": [
    "import torch\n",
    "import time\n",
    "import torch.nn.functional as F"
   ]
  },
  {
   "cell_type": "code",
   "execution_count": 2,
   "metadata": {},
   "outputs": [],
   "source": [
    "def add_new_col_to_inverse(X, old_inverse, new_col, N=None, n=None):\n",
    "    B = old_inverse\n",
    "    v = new_col\n",
    "    u1 = torch.matmul(X.T, v)\n",
    "    u2 = torch.matmul(B, u1)\n",
    "    F22inv = 1. / (torch.matmul(v.T, v) - torch.matmul(u1.T, u2))\n",
    "    u3 = F22inv * u2\n",
    "    F11inv = B + F22inv * u2 * u2.T\n",
    "    if N is not None:\n",
    "        Bnew = torch.cat([\n",
    "            torch.cat([N - F11inv, -u3], 1),\n",
    "            torch.cat([-u3.T, n - F22inv], 1)\n",
    "        ], 0)\n",
    "    else:\n",
    "        Bnew = torch.cat([\n",
    "            torch.cat([F11inv, -u3], 1),\n",
    "            torch.cat([-u3.T, F22inv], 1)\n",
    "        ], 0)\n",
    "    return Bnew"
   ]
  },
  {
   "cell_type": "code",
   "execution_count": 3,
   "metadata": {},
   "outputs": [],
   "source": [
    "L = 2\n",
    "U = 3\n",
    "dim = 5\n",
    "a = torch.randn(L, dim)\n",
    "b = torch.randn(U, dim)\n",
    "a, b = [F.normalize(i, 1) for i in [a, b]]\n",
    "m_ab = torch.mm(a, b.T)\n",
    "m_ba = m_ab.T\n",
    "m_bb = torch.mm(b, b.T)\n",
    "m_ba_bb = torch.cat([m_ba, m_bb], 1)\n",
    "p_ab = torch.softmax(m_ab, 1)"
   ]
  },
  {
   "cell_type": "code",
   "execution_count": 4,
   "metadata": {},
   "outputs": [
    {
     "data": {
      "text/plain": [
       "tensor([[0.2018, 0.2061, 0.2307, 0.2076, 0.1539],\n",
       "        [0.2065, 0.2021, 0.2111, 0.2300, 0.1504],\n",
       "        [0.1915, 0.1992, 0.1769, 0.1700, 0.2624]])"
      ]
     },
     "execution_count": 4,
     "metadata": {},
     "output_type": "execute_result"
    }
   ],
   "source": [
    "exp_m_ba_bb = torch.exp(m_ba_bb)\n",
    "normaliser = exp_m_ba_bb.sum(1, keepdim=True)\n",
    "exp_m_ba_bb / normaliser"
   ]
  },
  {
   "cell_type": "code",
   "execution_count": 5,
   "metadata": {},
   "outputs": [],
   "source": [
    "Tbar_uu, Tbar_ul = torch.softmax(m_ba_bb, 1)[:, 2:], torch.softmax(m_ba_bb, 1)[:, :2]\n",
    "Tbar_uu_unnorm = exp_m_ba_bb[:, 2:]"
   ]
  },
  {
   "cell_type": "code",
   "execution_count": 6,
   "metadata": {},
   "outputs": [],
   "source": [
    "N = torch.diag(1 / normaliser[:, 0])\n",
    "Nm1 = torch.diag(normaliser[:, 0])"
   ]
  },
  {
   "cell_type": "code",
   "execution_count": 7,
   "metadata": {},
   "outputs": [],
   "source": [
    "middle_alternative = torch.mm(torch.inverse(Nm1 - Tbar_uu_unnorm), Nm1)"
   ]
  },
  {
   "cell_type": "code",
   "execution_count": 8,
   "metadata": {},
   "outputs": [],
   "source": [
    "middle = torch.inverse(torch.eye(3) - Tbar_uu)"
   ]
  },
  {
   "cell_type": "code",
   "execution_count": 9,
   "metadata": {},
   "outputs": [
    {
     "data": {
      "text/plain": [
       "tensor([[0.4971, 0.5029],\n",
       "        [0.4971, 0.5029]])"
      ]
     },
     "execution_count": 9,
     "metadata": {},
     "output_type": "execute_result"
    }
   ],
   "source": [
    "p_aba = torch.matmul(torch.matmul(p_ab, middle), Tbar_ul)\n",
    "p_aba"
   ]
  },
  {
   "cell_type": "code",
   "execution_count": 10,
   "metadata": {},
   "outputs": [
    {
     "data": {
      "text/plain": [
       "tensor([[0.4971, 0.5029],\n",
       "        [0.4971, 0.5029]])"
      ]
     },
     "execution_count": 10,
     "metadata": {},
     "output_type": "execute_result"
    }
   ],
   "source": [
    "torch.matmul(torch.matmul(p_ab, middle_alternative), Tbar_ul)"
   ]
  },
  {
   "cell_type": "code",
   "execution_count": 29,
   "metadata": {},
   "outputs": [],
   "source": [
    "X = torch.randn([dim, U]) * 0.3"
   ]
  },
  {
   "cell_type": "code",
   "execution_count": 30,
   "metadata": {},
   "outputs": [],
   "source": [
    "xnew = torch.randn([dim, 1]) * 0.3\n",
    "Xnew = torch.cat([X, xnew], 1)\n",
    "XtXnew = torch.mm(Xnew.T, Xnew)"
   ]
  },
  {
   "cell_type": "code",
   "execution_count": null,
   "metadata": {},
   "outputs": [],
   "source": []
  },
  {
   "cell_type": "code",
   "execution_count": null,
   "metadata": {},
   "outputs": [],
   "source": []
  },
  {
   "cell_type": "code",
   "execution_count": 31,
   "metadata": {},
   "outputs": [],
   "source": [
    "nm1 = torch.FloatTensor([0.7])\n",
    "Nm1_new = torch.diag(torch.cat([torch.diagonal(Nm1), nm1], 0))\n",
    "XtX = torch.mm(X.T, X)"
   ]
  },
  {
   "cell_type": "code",
   "execution_count": 32,
   "metadata": {},
   "outputs": [
    {
     "data": {
      "text/plain": [
       "tensor([[ 0.2041, -0.0121, -0.0103],\n",
       "        [-0.0121,  0.1979,  0.0036],\n",
       "        [-0.0103,  0.0036,  0.2216]])"
      ]
     },
     "execution_count": 32,
     "metadata": {},
     "output_type": "execute_result"
    }
   ],
   "source": [
    "torch.inverse(Nm1 - XtX)"
   ]
  },
  {
   "cell_type": "code",
   "execution_count": null,
   "metadata": {},
   "outputs": [],
   "source": []
  },
  {
   "cell_type": "code",
   "execution_count": 18,
   "metadata": {},
   "outputs": [],
   "source": [
    "X = torch.randn([128, 4096]) * 0.1\n",
    "# X = torch.randn([4, 129])\n",
    "X = F.normalize(X)\n",
    "XtX = torch.matmul(X.T, X)\n",
    "# XtXnew = torch.matmul(X[:, 1:].T, X[:, 1:])\n",
    "eXtX = torch.exp(XtX)\n",
    "eXtX -= eXtX.min()\n",
    "# eXtXnew = torch.exp(XtXnew)"
   ]
  },
  {
   "cell_type": "code",
   "execution_count": 24,
   "metadata": {},
   "outputs": [
    {
     "name": "stdout",
     "output_type": "stream",
     "text": [
      "579 ms ± 7.23 ms per loop (mean ± std. dev. of 7 runs, 1 loop each)\n"
     ]
    }
   ],
   "source": [
    "def torch_inv():\n",
    "    return torch.inverse(eXtX)\n",
    "\n",
    "%timeit torch_inv()"
   ]
  },
  {
   "cell_type": "code",
   "execution_count": 31,
   "metadata": {},
   "outputs": [
    {
     "name": "stdout",
     "output_type": "stream",
     "text": [
      "470 ms ± 20.3 ms per loop (mean ± std. dev. of 7 runs, 1 loop each)\n"
     ]
    }
   ],
   "source": [
    "def torch_inv2():\n",
    "    u = torch.cholesky(eXtX)\n",
    "    return torch.cholesky_inverse(u)\n",
    "%timeit torch_inv2()"
   ]
  },
  {
   "cell_type": "code",
   "execution_count": 34,
   "metadata": {},
   "outputs": [
    {
     "name": "stdout",
     "output_type": "stream",
     "text": [
      "180 ms ± 7.18 ms per loop (mean ± std. dev. of 7 runs, 1 loop each)\n"
     ]
    }
   ],
   "source": [
    "%timeit u = torch.cholesky(eXtX)"
   ]
  },
  {
   "cell_type": "code",
   "execution_count": 36,
   "metadata": {},
   "outputs": [
    {
     "data": {
      "text/plain": [
       "tensor([[0.0413, 0.0183, 0.0127,  ..., 0.0157, 0.0157, 0.0126],\n",
       "        [0.0183, 0.0516, 0.0125,  ..., 0.0111, 0.0166, 0.0144],\n",
       "        [0.0127, 0.0125, 0.0454,  ..., 0.0168, 0.0142, 0.0184],\n",
       "        ...,\n",
       "        [0.0157, 0.0111, 0.0168,  ..., 0.0465, 0.0145, 0.0170],\n",
       "        [0.0157, 0.0166, 0.0142,  ..., 0.0145, 0.0436, 0.0137],\n",
       "        [0.0126, 0.0144, 0.0184,  ..., 0.0170, 0.0137, 0.0439]])"
      ]
     },
     "execution_count": 36,
     "metadata": {},
     "output_type": "execute_result"
    }
   ],
   "source": [
    "torch.mm(u, u.T)"
   ]
  },
  {
   "cell_type": "code",
   "execution_count": 26,
   "metadata": {},
   "outputs": [
    {
     "ename": "AttributeError",
     "evalue": "module 'torch' has no attribute 'potrf'",
     "output_type": "error",
     "traceback": [
      "\u001b[0;31m---------------------------------------------------------------------------\u001b[0m",
      "\u001b[0;31mAttributeError\u001b[0m                            Traceback (most recent call last)",
      "\u001b[0;32m<ipython-input-26-494caa21bdfd>\u001b[0m in \u001b[0;36m<module>\u001b[0;34m\u001b[0m\n\u001b[0;32m----> 1\u001b[0;31m \u001b[0mtorch\u001b[0m\u001b[0;34m.\u001b[0m\u001b[0mpotrf\u001b[0m\u001b[0;34m(\u001b[0m\u001b[0meXtX\u001b[0m\u001b[0;34m)\u001b[0m\u001b[0;34m\u001b[0m\u001b[0;34m\u001b[0m\u001b[0m\n\u001b[0m",
      "\u001b[0;31mAttributeError\u001b[0m: module 'torch' has no attribute 'potrf'"
     ]
    }
   ],
   "source": [
    "\n",
    "torch.potrf(eXtX)"
   ]
  },
  {
   "cell_type": "code",
   "execution_count": 25,
   "metadata": {
    "scrolled": true
   },
   "outputs": [
    {
     "name": "stdout",
     "output_type": "stream",
     "text": [
      "2.94 s ± 90.6 ms per loop (mean ± std. dev. of 7 runs, 1 loop each)\n"
     ]
    }
   ],
   "source": [
    "import scipy.linalg\n",
    "\n",
    "M = eXtX.numpy()\n",
    "def scipy_inv(M):\n",
    "    return np.linalg.inv(M)\n",
    "    zz , _ = scipy.linalg.lapack.dpotrf(M, False, False)\n",
    "    inv_M , info = scipy.linalg.lapack.dpotri(zz)\n",
    "    return inv_M\n",
    "%timeit scipy_inv(M)"
   ]
  },
  {
   "cell_type": "code",
   "execution_count": 21,
   "metadata": {},
   "outputs": [
    {
     "data": {
      "text/plain": [
       "array([[ 5.16016609e+03, -7.17094981e+01,  3.67227918e+01, ...,\n",
       "        -1.39174757e+01,  9.63197227e+00,  3.24160249e+01],\n",
       "       [ 1.82854533e-02,  2.65514458e+03, -9.94787787e+00, ...,\n",
       "        -3.58465863e+01,  1.19178624e+01,  2.36879707e+01],\n",
       "       [ 1.26858354e-02,  1.24610066e-02,  3.53307662e+03, ...,\n",
       "         8.30143124e+01,  5.84684897e+01, -1.16068985e+02],\n",
       "       ...,\n",
       "       [ 1.57354474e-02,  1.11050010e-02,  1.68003440e-02, ...,\n",
       "         3.70626661e+03,  1.43761181e+01,  2.37045821e+01],\n",
       "       [ 1.57182813e-02,  1.65951848e-02,  1.41780972e-02, ...,\n",
       "         1.44798160e-02,  4.38297233e+03,  2.60644095e+01],\n",
       "       [ 1.25547051e-02,  1.44284368e-02,  1.84476972e-02, ...,\n",
       "         1.70407891e-02,  1.36840343e-02,  4.21725737e+03]])"
      ]
     },
     "execution_count": 21,
     "metadata": {},
     "output_type": "execute_result"
    }
   ],
   "source": [
    "inv_M"
   ]
  },
  {
   "cell_type": "code",
   "execution_count": 22,
   "metadata": {},
   "outputs": [
    {
     "data": {
      "text/plain": [
       "array([[ 2.0313248e-01,  0.0000000e+00,  0.0000000e+00, ...,\n",
       "         0.0000000e+00,  0.0000000e+00,  0.0000000e+00],\n",
       "       [ 9.0017378e-02,  2.0856513e-01,  0.0000000e+00, ...,\n",
       "         0.0000000e+00,  0.0000000e+00,  0.0000000e+00],\n",
       "       [ 6.2451042e-02,  3.2792285e-02,  2.0104480e-01, ...,\n",
       "         0.0000000e+00,  0.0000000e+00,  0.0000000e+00],\n",
       "       ...,\n",
       "       [ 7.7463962e-02,  1.9811068e-02,  5.6270979e-02, ...,\n",
       "         1.6426392e-02,  0.0000000e+00,  0.0000000e+00],\n",
       "       [ 7.7379458e-02,  4.6171136e-02,  3.8954563e-02, ...,\n",
       "        -5.3331343e-05,  1.5105100e-02,  0.0000000e+00],\n",
       "       [ 6.1805502e-02,  4.2504072e-02,  6.5627530e-02, ...,\n",
       "        -9.2000715e-05, -9.3355819e-05,  1.5398731e-02]], dtype=float32)"
      ]
     },
     "execution_count": 22,
     "metadata": {},
     "output_type": "execute_result"
    }
   ],
   "source": [
    "import numpy as np\n",
    "\n",
    "np.linalg.cholesky(M)"
   ]
  },
  {
   "cell_type": "code",
   "execution_count": 29,
   "metadata": {},
   "outputs": [
    {
     "data": {
      "text/plain": [
       "array([[ 3.51934044e+22,  5.62912448e+22,  3.32529420e+22, ...,\n",
       "        -1.55015399e+05,  1.90540316e+05, -6.83050750e+05],\n",
       "       [-7.57587026e-04,  9.00368835e+22,  5.31875047e+22, ...,\n",
       "        -2.48000540e+05,  3.04861960e+05, -1.09240252e+06],\n",
       "       [ 1.96077349e-03,  6.69133267e-04,  3.14194748e+22, ...,\n",
       "        -1.46437006e+05,  1.79968692e+05, -6.45486137e+05],\n",
       "       ...,\n",
       "       [-1.49789630e-04, -3.62291816e-03,  6.04315009e-03, ...,\n",
       "         7.83422954e+02, -3.26315742e+01, -1.37612101e+02],\n",
       "       [-1.92725344e-03, -3.70545220e-03, -4.79730405e-03, ...,\n",
       "         1.21067581e-03,  8.82375437e+02,  2.54072718e+01],\n",
       "       [-1.81561953e-03, -4.84478893e-03, -1.69411406e-03, ...,\n",
       "         4.36846633e-03, -7.56252208e-04,  1.13137123e+03]])"
      ]
     },
     "execution_count": 29,
     "metadata": {},
     "output_type": "execute_result"
    }
   ],
   "source": [
    "inv_M"
   ]
  },
  {
   "cell_type": "code",
   "execution_count": 31,
   "metadata": {},
   "outputs": [
    {
     "data": {
      "text/plain": [
       "array([[ 1.74134039e-01, -4.35059699e-03,  1.12601390e-02, ...,\n",
       "        -1.49789630e-04, -1.92725344e-03, -1.81561953e-03],\n",
       "       [-7.57587026e-04,  1.72435779e-01,  4.16457418e-03, ...,\n",
       "        -3.62291816e-03, -3.70545220e-03, -4.84478893e-03],\n",
       "       [ 1.96077349e-03,  6.69133267e-04,  1.72395117e-01, ...,\n",
       "         6.04315009e-03, -4.79730405e-03, -1.69411406e-03],\n",
       "       ...,\n",
       "       [-1.49789630e-04, -3.62291816e-03,  6.04315009e-03, ...,\n",
       "         3.61386612e-02,  1.21067581e-03,  4.36846633e-03],\n",
       "       [-1.92725344e-03, -3.70545220e-03, -4.79730405e-03, ...,\n",
       "         1.21067581e-03,  3.36754769e-02, -7.56252208e-04],\n",
       "       [-1.81561953e-03, -4.84478893e-03, -1.69411406e-03, ...,\n",
       "         4.36846633e-03, -7.56252208e-04,  2.97301728e-02]])"
      ]
     },
     "execution_count": 31,
     "metadata": {},
     "output_type": "execute_result"
    }
   ],
   "source": [
    "zz"
   ]
  },
  {
   "cell_type": "code",
   "execution_count": 258,
   "metadata": {},
   "outputs": [
    {
     "name": "stdout",
     "output_type": "stream",
     "text": [
      "705 ms ± 76 ms per loop (mean ± std. dev. of 7 runs, 1 loop each)\n"
     ]
    }
   ],
   "source": [
    "X = torch.randn([4096, 128]) * 0.05\n",
    "def old(X):\n",
    "    return torch.inverse(torch.exp(torch.matmul(X, X.T)))\n",
    "\n",
    "%timeit old(X)"
   ]
  },
  {
   "cell_type": "code",
   "execution_count": 259,
   "metadata": {},
   "outputs": [
    {
     "data": {
      "text/plain": [
       "torch.Size([4096, 4096])"
      ]
     },
     "execution_count": 259,
     "metadata": {},
     "output_type": "execute_result"
    }
   ],
   "source": [
    "old(X).shape"
   ]
  },
  {
   "cell_type": "code",
   "execution_count": null,
   "metadata": {},
   "outputs": [],
   "source": [
    "def new(X):\n",
    "    \n",
    "    symeig = torch.symeig(torch.exp(torch.matmul(X, X.T)), True)"
   ]
  },
  {
   "cell_type": "code",
   "execution_count": null,
   "metadata": {},
   "outputs": [],
   "source": []
  },
  {
   "cell_type": "code",
   "execution_count": 260,
   "metadata": {},
   "outputs": [
    {
     "data": {
      "text/plain": [
       "torch.return_types.symeig(\n",
       "eigenvalues=tensor([8.9242e-03, 9.1426e-03, 9.1826e-03,  ..., 1.4072e+01, 1.4283e+01,\n",
       "        4.0980e+03]),\n",
       "eigenvectors=tensor([[-1.2142e-02,  1.0688e-02, -4.1807e-03,  ...,  1.0539e-02,\n",
       "          1.1228e-02,  1.5622e-02],\n",
       "        [ 5.4051e-03, -1.8964e-03,  3.7369e-03,  ...,  1.0931e-02,\n",
       "         -2.3277e-02,  1.5624e-02],\n",
       "        [ 3.8326e-03, -6.3312e-03, -7.8157e-03,  ..., -2.2687e-02,\n",
       "         -2.0749e-02,  1.5607e-02],\n",
       "        ...,\n",
       "        [ 3.8040e-03, -2.9918e-03, -8.4959e-03,  ...,  3.2905e-04,\n",
       "          1.9703e-02,  1.5632e-02],\n",
       "        [-2.8663e-03, -1.0480e-03,  7.3053e-03,  ..., -6.7421e-03,\n",
       "         -2.5815e-02,  1.5624e-02],\n",
       "        [ 1.3776e-02,  7.8041e-03, -7.0944e-05,  ..., -1.7609e-02,\n",
       "         -1.6254e-02,  1.5626e-02]]))"
      ]
     },
     "execution_count": 260,
     "metadata": {},
     "output_type": "execute_result"
    }
   ],
   "source": [
    "torch.symeig(torch.exp(torch.matmul(X, X.T)), True)"
   ]
  },
  {
   "cell_type": "code",
   "execution_count": null,
   "metadata": {},
   "outputs": [],
   "source": []
  },
  {
   "cell_type": "code",
   "execution_count": 261,
   "metadata": {},
   "outputs": [
    {
     "name": "stdout",
     "output_type": "stream",
     "text": [
      "10.9 s ± 314 ms per loop (mean ± std. dev. of 7 runs, 1 loop each)\n"
     ]
    }
   ],
   "source": [
    "%timeit torch.symeig(torch.exp(torch.matmul(X, X.T)), True)"
   ]
  },
  {
   "cell_type": "code",
   "execution_count": null,
   "metadata": {},
   "outputs": [],
   "source": []
  },
  {
   "cell_type": "code",
   "execution_count": null,
   "metadata": {},
   "outputs": [],
   "source": [
    "torch.inverse()"
   ]
  },
  {
   "cell_type": "code",
   "execution_count": null,
   "metadata": {},
   "outputs": [],
   "source": [
    "c = 1.0 / (1.0 + torch.mm(u.T, torch.mm(old_inv, v.T)))\n",
    "new_inv = "
   ]
  },
  {
   "cell_type": "code",
   "execution_count": null,
   "metadata": {},
   "outputs": [],
   "source": []
  },
  {
   "cell_type": "code",
   "execution_count": 245,
   "metadata": {},
   "outputs": [
    {
     "data": {
      "text/plain": [
       "torch.Size([128])"
      ]
     },
     "execution_count": 245,
     "metadata": {},
     "output_type": "execute_result"
    }
   ],
   "source": [
    "u.shape"
   ]
  },
  {
   "cell_type": "code",
   "execution_count": 209,
   "metadata": {},
   "outputs": [
    {
     "data": {
      "text/plain": [
       "tensor([[1.0224, 0.9655, 1.0029,  ..., 0.9941, 1.0127, 0.9819],\n",
       "        [0.9655, 1.0879, 1.0113,  ..., 1.0133, 0.9849, 1.0195],\n",
       "        [1.0029, 1.0113, 1.0152,  ..., 0.9897, 1.0153, 0.9953],\n",
       "        ...,\n",
       "        [0.9941, 1.0133, 0.9897,  ..., 1.0278, 0.9684, 0.9949],\n",
       "        [1.0127, 0.9849, 1.0153,  ..., 0.9684, 1.0607, 1.0039],\n",
       "        [0.9819, 1.0195, 0.9953,  ..., 0.9949, 1.0039, 1.0234]])"
      ]
     },
     "execution_count": 209,
     "metadata": {},
     "output_type": "execute_result"
    }
   ],
   "source": [
    "eXtX"
   ]
  },
  {
   "cell_type": "code",
   "execution_count": 210,
   "metadata": {},
   "outputs": [],
   "source": [
    "vals, vecs = torch.symeig(eXtX, True)"
   ]
  },
  {
   "cell_type": "code",
   "execution_count": 213,
   "metadata": {},
   "outputs": [],
   "source": [
    "XtX0 = torch.matmul(X[:, :-1].T, X[:, :-1])\n",
    "eXtX0 = torch.exp(XtX0)\n",
    "vals0, vecs0 = torch.symeig(eXtX0, True)"
   ]
  },
  {
   "cell_type": "code",
   "execution_count": null,
   "metadata": {},
   "outputs": [],
   "source": []
  },
  {
   "cell_type": "code",
   "execution_count": null,
   "metadata": {},
   "outputs": [],
   "source": []
  },
  {
   "cell_type": "code",
   "execution_count": 193,
   "metadata": {},
   "outputs": [
    {
     "data": {
      "text/plain": [
       "tensor(2566537.)"
      ]
     },
     "execution_count": 193,
     "metadata": {},
     "output_type": "execute_result"
    }
   ],
   "source": [
    "goal = torch.inverse(torch.mm(torch.mm(vecs, torch.diag(vals)), vecs.T))\n",
    "goal[-1, -1]"
   ]
  },
  {
   "cell_type": "code",
   "execution_count": 194,
   "metadata": {},
   "outputs": [],
   "source": [
    "known = torch.inverse(torch.mm(torch.mm(vecs0, torch.diag(vals0)), vecs0.T))"
   ]
  },
  {
   "cell_type": "code",
   "execution_count": null,
   "metadata": {},
   "outputs": [],
   "source": [
    "v"
   ]
  },
  {
   "cell_type": "code",
   "execution_count": null,
   "metadata": {},
   "outputs": [],
   "source": []
  },
  {
   "cell_type": "code",
   "execution_count": null,
   "metadata": {},
   "outputs": [],
   "source": [
    "# %timeit torch.inverse(eXtX)"
   ]
  },
  {
   "cell_type": "code",
   "execution_count": 116,
   "metadata": {},
   "outputs": [
    {
     "data": {
      "text/plain": [
       "tensor(True)"
      ]
     },
     "execution_count": 116,
     "metadata": {},
     "output_type": "execute_result"
    }
   ],
   "source": [
    "torch.all(XtX == XtX.T)"
   ]
  },
  {
   "cell_type": "code",
   "execution_count": 132,
   "metadata": {},
   "outputs": [
    {
     "data": {
      "text/plain": [
       "tensor([[1.0348, 0.9936, 0.9993,  ..., 1.0011, 0.9995, 0.9995],\n",
       "        [0.9936, 1.0373, 0.9996,  ..., 1.0034, 0.9957, 1.0048],\n",
       "        [0.9993, 0.9996, 1.0306,  ..., 1.0016, 0.9989, 1.0001],\n",
       "        ...,\n",
       "        [1.0011, 1.0034, 1.0016,  ..., 1.0285, 0.9987, 0.9958],\n",
       "        [0.9995, 0.9957, 0.9989,  ..., 0.9987, 1.0331, 0.9967],\n",
       "        [0.9995, 1.0048, 1.0001,  ..., 0.9958, 0.9967, 1.0325]])"
      ]
     },
     "execution_count": 132,
     "metadata": {},
     "output_type": "execute_result"
    }
   ],
   "source": [
    "torch.mm(torch.mm(vecs, torch.diag(vals)), vecs.T)"
   ]
  },
  {
   "cell_type": "code",
   "execution_count": 137,
   "metadata": {},
   "outputs": [
    {
     "data": {
      "text/plain": [
       "tensor([[1.0348, 0.9936, 0.9993,  ..., 1.0011, 0.9995, 0.9995],\n",
       "        [0.9936, 1.0373, 0.9996,  ..., 1.0034, 0.9957, 1.0048],\n",
       "        [0.9993, 0.9996, 1.0306,  ..., 1.0016, 0.9989, 1.0001],\n",
       "        ...,\n",
       "        [1.0011, 1.0034, 1.0016,  ..., 1.0285, 0.9987, 0.9958],\n",
       "        [0.9995, 0.9957, 0.9989,  ..., 0.9987, 1.0331, 0.9967],\n",
       "        [0.9995, 1.0048, 1.0001,  ..., 0.9958, 0.9967, 1.0325]])"
      ]
     },
     "execution_count": 137,
     "metadata": {},
     "output_type": "execute_result"
    }
   ],
   "source": [
    "torch.mm(torch.mm(vecs, torch.diag(vals)), vecs.T)"
   ]
  },
  {
   "cell_type": "code",
   "execution_count": 50,
   "metadata": {},
   "outputs": [
    {
     "data": {
      "text/plain": [
       "tensor([[0.5380, 0.2225, 0.2395],\n",
       "        [0.2297, 0.4388, 0.3315],\n",
       "        [0.2511, 0.3366, 0.4123]])"
      ]
     },
     "execution_count": 50,
     "metadata": {},
     "output_type": "execute_result"
    }
   ],
   "source": [
    "f = torch.exp(XtX - XtX.min())\n",
    "f / f.sum(1, keepdim=True)"
   ]
  },
  {
   "cell_type": "code",
   "execution_count": 51,
   "metadata": {},
   "outputs": [
    {
     "data": {
      "text/plain": [
       "tensor([[0.8831, 0.0000, 0.0738],\n",
       "        [0.0000, 0.6472, 0.3668],\n",
       "        [0.0738, 0.3668, 0.5696]])"
      ]
     },
     "execution_count": 51,
     "metadata": {},
     "output_type": "execute_result"
    }
   ],
   "source": [
    "XtX - XtX.min()"
   ]
  },
  {
   "cell_type": "code",
   "execution_count": 49,
   "metadata": {},
   "outputs": [
    {
     "data": {
      "text/plain": [
       "tensor([[0.5380, 0.2225, 0.2395],\n",
       "        [0.2297, 0.4388, 0.3315],\n",
       "        [0.2511, 0.3366, 0.4123]])"
      ]
     },
     "execution_count": 49,
     "metadata": {},
     "output_type": "execute_result"
    }
   ],
   "source": [
    "torch.softmax(XtX, 1)"
   ]
  },
  {
   "cell_type": "code",
   "execution_count": 46,
   "metadata": {},
   "outputs": [
    {
     "data": {
      "text/plain": [
       "tensor([[ 0.7726, -0.1278, -0.3662],\n",
       "        [-0.1278,  1.8606, -1.4413],\n",
       "        [-0.3662, -1.4413,  2.1615]])"
      ]
     },
     "execution_count": 46,
     "metadata": {},
     "output_type": "execute_result"
    }
   ],
   "source": [
    "torch.inverse(torch.exp(XtX))"
   ]
  },
  {
   "cell_type": "code",
   "execution_count": 37,
   "metadata": {},
   "outputs": [
    {
     "data": {
      "text/plain": [
       "tensor([[4.3831, 3.1722, 2.7911],\n",
       "        [3.1722, 5.3071, 1.2520],\n",
       "        [2.7911, 1.2520, 5.6468]])"
      ]
     },
     "execution_count": 37,
     "metadata": {},
     "output_type": "execute_result"
    }
   ],
   "source": [
    "(torch.inverse(XtX))"
   ]
  },
  {
   "cell_type": "code",
   "execution_count": 152,
   "metadata": {},
   "outputs": [
    {
     "data": {
      "text/plain": [
       "tensor([[-0.1303]])"
      ]
     },
     "execution_count": 152,
     "metadata": {},
     "output_type": "execute_result"
    }
   ],
   "source": [
    "def add_new_col_to_inverse_new(X, old_inverse, new_col, N=None, n=None):\n",
    "    B = old_inverse\n",
    "    v = new_col\n",
    "    # Decomposition of diagonal matrix N\n",
    "    Nlong = torch.cat([torch.sqrt(N), torch.zeros([X.shape[0] - N.shape[0], N.shape[1]])], 0)\n",
    "    X = Nlong - X\n",
    "    \n",
    "    \n",
    "    # d = 1. / (torch.matmul(v.T, v) - torch.matmul(u1.T, u2))\n",
    "    middle = torch.matmul(torch.matmul(Nlong + X, (B)), (Nlong + X).T)\n",
    "#     print(middle.shape, N.shape, B.shape)\n",
    "    v = v + n\n",
    "    other = torch.matmul(torch.matmul(v.T, middle), v)\n",
    "    d = 1. / (torch.matmul(v.T, v) - other)\n",
    "    return d\n",
    "    u3 = d * u2\n",
    "    F11inv = B + d * u2 * u2.T\n",
    "    Bnew = torch.cat([\n",
    "        torch.cat([F11inv, -u3], 1),\n",
    "        torch.cat([-u3.T, d], 1)\n",
    "    ], 0)\n",
    "    return Bnew\n",
    "\n",
    "add_new_col_to_inverse_new(X, torch.inverse(Nm1 - XtX), xnew, N=Nm1, n=nm1)"
   ]
  },
  {
   "cell_type": "code",
   "execution_count": 127,
   "metadata": {},
   "outputs": [
    {
     "data": {
      "text/plain": [
       "tensor([0.7000])"
      ]
     },
     "execution_count": 127,
     "metadata": {},
     "output_type": "execute_result"
    }
   ],
   "source": [
    "nm1"
   ]
  },
  {
   "cell_type": "code",
   "execution_count": 163,
   "metadata": {},
   "outputs": [
    {
     "name": "stdout",
     "output_type": "stream",
     "text": [
      "tensor([[5.2744]])\n"
     ]
    }
   ],
   "source": [
    "def add_new_col_to_inverse_new(X, old_inverse, new_col, N=None, n=None):\n",
    "    B = old_inverse\n",
    "    v = new_col\n",
    "    # Decomposition of diagonal matrix N\n",
    "    Nlong = torch.cat([torch.sqrt(N), torch.zeros([X.shape[0] - N.shape[0], N.shape[1]])], 0)\n",
    "    X = (Nlong - X)\n",
    "    v = n - v\n",
    "    u1 = torch.matmul(X.T, v)\n",
    "    u2 = torch.matmul(B, u1)\n",
    "    d = 1. / (torch.matmul(v.T, v) - torch.matmul(u1.T, u2))\n",
    "    return n - d\n",
    "\n",
    "print(add_new_col_to_inverse_new(X, torch.inverse(Nm1 - XtX), xnew, N=Nm1, n=nm1))"
   ]
  },
  {
   "cell_type": "code",
   "execution_count": 189,
   "metadata": {},
   "outputs": [
    {
     "name": "stdout",
     "output_type": "stream",
     "text": [
      "15.2 µs ± 206 ns per loop (mean ± std. dev. of 7 runs, 100000 loops each)\n"
     ]
    }
   ],
   "source": [
    "%timeit torch.inverse(Nm1 + torch.matmul(X.T, X))"
   ]
  },
  {
   "cell_type": "code",
   "execution_count": 188,
   "metadata": {},
   "outputs": [
    {
     "name": "stdout",
     "output_type": "stream",
     "text": [
      "64.3 µs ± 1.47 µs per loop (mean ± std. dev. of 7 runs, 10000 loops each)\n"
     ]
    }
   ],
   "source": [
    "import numpy as np\n",
    "def woodbury(A, U, V, k):\n",
    "    A_inv = torch.diag(1. / torch.diag(A))  # Fast matrix inversion of a diagonal.\n",
    "    B_inv = torch.inverse(torch.eye(k) + V @ A_inv @ U)\n",
    "    return A_inv - (A_inv @ U @ B_inv @ V @ A_inv)\n",
    "\n",
    "%timeit woodbury(Nm1, X.T, X, X.shape[0])"
   ]
  },
  {
   "cell_type": "code",
   "execution_count": null,
   "metadata": {},
   "outputs": [],
   "source": []
  },
  {
   "cell_type": "code",
   "execution_count": 182,
   "metadata": {},
   "outputs": [
    {
     "data": {
      "text/plain": [
       "tensor([[ 0.1611, -0.0021, -0.0120],\n",
       "        [-0.0021,  0.1594, -0.0018],\n",
       "        [-0.0120, -0.0018,  0.1530]])"
      ]
     },
     "execution_count": 182,
     "metadata": {},
     "output_type": "execute_result"
    }
   ],
   "source": [
    "# Can possible use Woodbury identity..\n",
    "Am1 = torch.inverse(Nm1)\n",
    "u = X.T\n",
    "c = torch.eye(X.shape[0])\n",
    "v = X\n",
    "\n",
    "left = torch.mm(Am1, u)\n",
    "middle = (c + torch.mm(torch.mm(v, Am1), u))\n",
    "right = torch.mm(v, Am1)\n",
    "\n",
    "Am1 - torch.mm(torch.mm(left, middle), right)"
   ]
  },
  {
   "cell_type": "code",
   "execution_count": null,
   "metadata": {},
   "outputs": [],
   "source": []
  },
  {
   "cell_type": "code",
   "execution_count": 173,
   "metadata": {},
   "outputs": [
    {
     "data": {
      "text/plain": [
       "tensor([[ 0.0475, -0.0217, -0.1195],\n",
       "        [-0.0214,  0.0674, -0.0202],\n",
       "        [-0.1180, -0.0203, -0.0151]])"
      ]
     },
     "execution_count": 173,
     "metadata": {},
     "output_type": "execute_result"
    }
   ],
   "source": [
    "o = torch.mm(N1, X.T)\n",
    "p = torch.eye(X.shape[0]) + torch.matmul(X, X.T)\n",
    "o = torch.mm(o, p)\n",
    "o = torch.mm(o, X)\n",
    "N1 - o"
   ]
  },
  {
   "cell_type": "code",
   "execution_count": 167,
   "metadata": {},
   "outputs": [
    {
     "data": {
      "text/plain": [
       "tensor([[0.1920, 0.0023, 0.0131, 0.0324],\n",
       "        [0.0023, 0.1869, 0.0021, 0.0082],\n",
       "        [0.0131, 0.0021, 0.1960, 0.0387],\n",
       "        [0.0324, 0.0082, 0.0387, 1.5992]])"
      ]
     },
     "execution_count": 167,
     "metadata": {},
     "output_type": "execute_result"
    }
   ],
   "source": [
    "torch.inverse(Nm1_new - XtXnew)"
   ]
  },
  {
   "cell_type": "code",
   "execution_count": null,
   "metadata": {},
   "outputs": [],
   "source": []
  },
  {
   "cell_type": "code",
   "execution_count": null,
   "metadata": {},
   "outputs": [],
   "source": []
  },
  {
   "cell_type": "code",
   "execution_count": 394,
   "metadata": {},
   "outputs": [],
   "source": [
    "import torch\n",
    "import time\n",
    "import torch.nn.functional as F\n",
    "\n",
    "\n",
    "n, p = 128, 4000\n",
    "col = 0\n",
    "\n",
    "a = torch.randn(100, 16) * 0.5\n",
    "b = torch.randn(500, 16) * 0.5\n",
    "\n",
    "match_ab = torch.matmul(a, torch.t(b))\n",
    "match_ba = torch.t(match_ab)\n",
    "match_bb = torch.matmul(b, torch.t(b))\n",
    "\n",
    "p_ab = F.softmax(match_ab, dim=1)\n",
    "p_bb = F.softmax(match_bb, dim=1)\n",
    "p_ba = F.softmax(match_ba, dim=1)"
   ]
  },
  {
   "cell_type": "code",
   "execution_count": 395,
   "metadata": {},
   "outputs": [],
   "source": [
    "match_ba_bb = torch.cat([match_ba, match_bb], dim=1)\n",
    "p_ba_bb = torch.clamp(F.softmax(match_ba_bb, dim=1), min=1e-8)"
   ]
  },
  {
   "cell_type": "code",
   "execution_count": 396,
   "metadata": {},
   "outputs": [],
   "source": [
    "N = a.shape[0]\n",
    "M = b.shape[0]\n",
    "Tbar_ul, Tbar_uu = p_ba_bb[:, :N], p_ba_bb[:, N:]"
   ]
  },
  {
   "cell_type": "code",
   "execution_count": 430,
   "metadata": {},
   "outputs": [],
   "source": [
    "middle = torch.inverse(torch.eye(Tbar_uu.shape[1]) - Tbar_uu)# - torch.eye(Tbar_uu.shape[1])"
   ]
  },
  {
   "cell_type": "code",
   "execution_count": 433,
   "metadata": {},
   "outputs": [],
   "source": [
    "middle = torch.eye(Tbar_uu.shape[1])\n",
    "for i in range(1, 3):\n",
    "    middle += torch.matrix_power(Tbar_uu, i)\n",
    "middle /= Tbar_uu.sum(1, keepdim=True)"
   ]
  },
  {
   "cell_type": "code",
   "execution_count": 434,
   "metadata": {},
   "outputs": [],
   "source": [
    "p_aba = torch.matmul(torch.matmul(p_ab, middle), Tbar_ul)"
   ]
  },
  {
   "cell_type": "code",
   "execution_count": 432,
   "metadata": {},
   "outputs": [
    {
     "data": {
      "text/plain": [
       "tensor([[0.0115, 0.0085, 0.0108,  ..., 0.0093, 0.0088, 0.0090],\n",
       "        [0.0093, 0.0101, 0.0103,  ..., 0.0093, 0.0085, 0.0092],\n",
       "        [0.0094, 0.0082, 0.0150,  ..., 0.0095, 0.0084, 0.0092],\n",
       "        ...,\n",
       "        [0.0094, 0.0086, 0.0111,  ..., 0.0118, 0.0089, 0.0093],\n",
       "        [0.0094, 0.0083, 0.0103,  ..., 0.0094, 0.0102, 0.0089],\n",
       "        [0.0089, 0.0083, 0.0103,  ..., 0.0090, 0.0081, 0.0117]])"
      ]
     },
     "execution_count": 432,
     "metadata": {},
     "output_type": "execute_result"
    }
   ],
   "source": [
    "p_aba"
   ]
  },
  {
   "cell_type": "code",
   "execution_count": 437,
   "metadata": {},
   "outputs": [
    {
     "data": {
      "text/plain": [
       "tensor([[0.0151, 0.0088, 0.0112,  ..., 0.0096, 0.0092, 0.0085],\n",
       "        [0.0094, 0.0128, 0.0100,  ..., 0.0097, 0.0083, 0.0090],\n",
       "        [0.0097, 0.0081, 0.0217,  ..., 0.0103, 0.0081, 0.0089],\n",
       "        ...,\n",
       "        [0.0096, 0.0090, 0.0118,  ..., 0.0157, 0.0092, 0.0091],\n",
       "        [0.0098, 0.0083, 0.0100,  ..., 0.0099, 0.0126, 0.0081],\n",
       "        [0.0084, 0.0082, 0.0101,  ..., 0.0090, 0.0074, 0.0153]])"
      ]
     },
     "execution_count": 437,
     "metadata": {},
     "output_type": "execute_result"
    }
   ],
   "source": [
    "p_aba / p_aba.sum(1, keepdim=True)"
   ]
  },
  {
   "cell_type": "code",
   "execution_count": null,
   "metadata": {},
   "outputs": [],
   "source": []
  },
  {
   "cell_type": "code",
   "execution_count": 165,
   "metadata": {},
   "outputs": [],
   "source": [
    "match_ab = torch.matmul(a, torch.t(b))\n",
    "p_ab = F.softmax(match_ab, dim=1)\n",
    "\n",
    "match_ba = torch.t(match_ab)\n",
    "match_bb = torch.matmul(b, torch.t(b))\n",
    "p_bb = torch.softmax(match_bb, dim=1)\n",
    "p_ba = F.softmax(match_ba, dim=1)\n",
    "\n",
    "match_ba_bb = torch.cat([match_ba, match_bb], dim=1)\n",
    "p_ba_bb = torch.clamp(F.softmax(match_ba_bb, dim=1), min=1e-8)\n",
    "N = a.shape[0]\n",
    "M = b.shape[0]\n",
    "Tbar_ul, Tbar_uu = p_ba_bb[:, :N], p_ba_bb[:, N:]\n",
    "I = torch.eye(M)\n",
    "I = I.cuda() if Tbar_uu.is_cuda else I\n",
    "# middle = torch.inverse(I - Tbar_uu + 1e-8)\n",
    "middle = torch.inverse(match_bb + 1e-8)\n",
    "# middle = torch.inverse(I - p_bb + 1e-8)\n",
    "p_aba = torch.matmul(torch.matmul(p_ab, middle), Tbar_ul)\n",
    "p_aba /= p_aba.sum(1, keepdim=True)\n",
    "# p_aba = torch.matmul(torch.matmul(p_ab, p_bb), p_ba)"
   ]
  },
  {
   "cell_type": "code",
   "execution_count": 162,
   "metadata": {},
   "outputs": [
    {
     "data": {
      "text/plain": [
       "tensor([1.0000, 1.0000, 1.0000, 1.0000, 1.0000, 1.0000, 1.0000, 1.0000, 1.0000,\n",
       "        1.0000])"
      ]
     },
     "execution_count": 162,
     "metadata": {},
     "output_type": "execute_result"
    }
   ],
   "source": [
    "p_aba.sum(1)"
   ]
  },
  {
   "cell_type": "code",
   "execution_count": 163,
   "metadata": {},
   "outputs": [
    {
     "data": {
      "text/plain": [
       "tensor([[ 1.2201, -0.3730,  0.6471,  ..., -0.3973, -0.3934, -0.2369],\n",
       "        [-2.3164,  0.3392, -4.5347,  ...,  0.9172,  2.8041, -0.4114],\n",
       "        [ 3.0603,  0.5993,  3.7068,  ..., -0.6661, -5.3733,  2.5896],\n",
       "        ...,\n",
       "        [ 2.4616,  0.9285,  3.8963,  ..., -0.7809, -5.4913,  1.0392],\n",
       "        [-1.4368, -0.3912, -3.5948,  ...,  0.0509,  3.4498, -0.8072],\n",
       "        [-1.6878, -0.0854, -2.4238,  ...,  0.5706,  0.5472, -1.4204]])"
      ]
     },
     "execution_count": 163,
     "metadata": {},
     "output_type": "execute_result"
    }
   ],
   "source": [
    "middle"
   ]
  },
  {
   "cell_type": "code",
   "execution_count": 128,
   "metadata": {},
   "outputs": [
    {
     "data": {
      "text/plain": [
       "tensor([[6.0889, 6.0888, 6.0887,  ..., 6.0888, 6.0890, 6.0888],\n",
       "        [6.0889, 6.0888, 6.0887,  ..., 6.0888, 6.0890, 6.0888],\n",
       "        [6.0889, 6.0888, 6.0887,  ..., 6.0888, 6.0890, 6.0888],\n",
       "        ...,\n",
       "        [6.0889, 6.0888, 6.0887,  ..., 6.0888, 6.0890, 6.0888],\n",
       "        [6.0889, 6.0888, 6.0887,  ..., 6.0888, 6.0890, 6.0888],\n",
       "        [6.0889, 6.0888, 6.0887,  ..., 6.0888, 6.0890, 6.0888]])"
      ]
     },
     "execution_count": 128,
     "metadata": {},
     "output_type": "execute_result"
    }
   ],
   "source": [
    "p_aba"
   ]
  },
  {
   "cell_type": "code",
   "execution_count": 123,
   "metadata": {},
   "outputs": [
    {
     "data": {
      "text/plain": [
       "tensor([[0.0003, 0.0002, 0.0003,  ..., 0.0003, 0.0002, 0.0002],\n",
       "        [0.0002, 0.0003, 0.0003,  ..., 0.0002, 0.0003, 0.0003],\n",
       "        [0.0003, 0.0003, 0.0003,  ..., 0.0002, 0.0002, 0.0003],\n",
       "        ...,\n",
       "        [0.0003, 0.0002, 0.0002,  ..., 0.0003, 0.0002, 0.0003],\n",
       "        [0.0002, 0.0003, 0.0002,  ..., 0.0002, 0.0003, 0.0002],\n",
       "        [0.0002, 0.0003, 0.0003,  ..., 0.0003, 0.0002, 0.0003]])"
      ]
     },
     "execution_count": 123,
     "metadata": {},
     "output_type": "execute_result"
    }
   ],
   "source": [
    "p_bb"
   ]
  },
  {
   "cell_type": "code",
   "execution_count": null,
   "metadata": {},
   "outputs": [],
   "source": [
    "p_ab"
   ]
  },
  {
   "cell_type": "code",
   "execution_count": 113,
   "metadata": {},
   "outputs": [
    {
     "data": {
      "text/plain": [
       "tensor([[1.0100, 0.0100, 0.0100,  ..., 0.0100, 0.0100, 0.0100],\n",
       "        [0.0100, 1.0100, 0.0100,  ..., 0.0100, 0.0100, 0.0100],\n",
       "        [0.0100, 0.0100, 1.0100,  ..., 0.0100, 0.0100, 0.0100],\n",
       "        ...,\n",
       "        [0.0100, 0.0100, 0.0100,  ..., 1.0100, 0.0100, 0.0100],\n",
       "        [0.0100, 0.0100, 0.0100,  ..., 0.0100, 1.0100, 0.0100],\n",
       "        [0.0100, 0.0100, 0.0100,  ..., 0.0100, 0.0100, 1.0100]])"
      ]
     },
     "execution_count": 113,
     "metadata": {},
     "output_type": "execute_result"
    }
   ],
   "source": [
    "middle"
   ]
  },
  {
   "cell_type": "code",
   "execution_count": 114,
   "metadata": {},
   "outputs": [
    {
     "data": {
      "text/plain": [
       "tensor([[0.0002, 0.0002, 0.0002,  ..., 0.0002, 0.0002, 0.0002],\n",
       "        [0.0002, 0.0002, 0.0002,  ..., 0.0002, 0.0002, 0.0002],\n",
       "        [0.0002, 0.0002, 0.0002,  ..., 0.0002, 0.0002, 0.0002],\n",
       "        ...,\n",
       "        [0.0002, 0.0002, 0.0002,  ..., 0.0002, 0.0002, 0.0002],\n",
       "        [0.0002, 0.0002, 0.0002,  ..., 0.0002, 0.0002, 0.0002],\n",
       "        [0.0002, 0.0002, 0.0002,  ..., 0.0002, 0.0002, 0.0002]])"
      ]
     },
     "execution_count": 114,
     "metadata": {},
     "output_type": "execute_result"
    }
   ],
   "source": [
    "Tbar_ul"
   ]
  },
  {
   "cell_type": "code",
   "execution_count": 115,
   "metadata": {},
   "outputs": [
    {
     "data": {
      "text/plain": [
       "tensor([[0.0100, 0.0100, 0.0100,  ..., 0.0100, 0.0100, 0.0100],\n",
       "        [0.0100, 0.0100, 0.0100,  ..., 0.0100, 0.0100, 0.0100],\n",
       "        [0.0100, 0.0100, 0.0100,  ..., 0.0100, 0.0100, 0.0100],\n",
       "        ...,\n",
       "        [0.0100, 0.0100, 0.0100,  ..., 0.0100, 0.0100, 0.0100],\n",
       "        [0.0100, 0.0100, 0.0100,  ..., 0.0100, 0.0100, 0.0100],\n",
       "        [0.0100, 0.0100, 0.0100,  ..., 0.0100, 0.0100, 0.0100]])"
      ]
     },
     "execution_count": 115,
     "metadata": {},
     "output_type": "execute_result"
    }
   ],
   "source": [
    "p_aba"
   ]
  },
  {
   "cell_type": "code",
   "execution_count": 96,
   "metadata": {},
   "outputs": [
    {
     "data": {
      "text/plain": [
       "tensor([[0.5052, 0.4948],\n",
       "        [0.5018, 0.4982]])"
      ]
     },
     "execution_count": 96,
     "metadata": {},
     "output_type": "execute_result"
    }
   ],
   "source": [
    "(p_aba / p_aba.sum(1, keepdim=True))"
   ]
  },
  {
   "cell_type": "code",
   "execution_count": null,
   "metadata": {},
   "outputs": [],
   "source": []
  },
  {
   "cell_type": "code",
   "execution_count": null,
   "metadata": {},
   "outputs": [],
   "source": []
  },
  {
   "cell_type": "code",
   "execution_count": 55,
   "metadata": {},
   "outputs": [],
   "source": [
    "match_ab = torch.matmul(a, torch.t(b))\n",
    "p_ab = F.softmax(match_ab, dim=1)\n",
    "p_ba = F.softmax(torch.t(match_ab), dim=1)\n",
    "p_aba = torch.matmul(p_ab, p_ba)"
   ]
  },
  {
   "cell_type": "code",
   "execution_count": 56,
   "metadata": {},
   "outputs": [
    {
     "data": {
      "text/plain": [
       "tensor([1.0000, 1.0000, 1.0000, 1.0000, 1.0000, 1.0000, 1.0000, 1.0000, 1.0000,\n",
       "        1.0000, 1.0000, 1.0000, 1.0000, 1.0000, 1.0000, 1.0000, 1.0000, 1.0000,\n",
       "        1.0000, 1.0000, 1.0000, 1.0000, 1.0000, 1.0000, 1.0000, 1.0000, 1.0000,\n",
       "        1.0000, 1.0000, 1.0000, 1.0000, 1.0000, 1.0000, 1.0000, 1.0000, 1.0000,\n",
       "        1.0000, 1.0000, 1.0000, 1.0000, 1.0000, 1.0000, 1.0000, 1.0000, 1.0000,\n",
       "        1.0000, 1.0000, 1.0000, 1.0000, 1.0000, 1.0000, 1.0000, 1.0000, 1.0000,\n",
       "        1.0000, 1.0000, 1.0000, 1.0000, 1.0000, 1.0000, 1.0000, 1.0000, 1.0000,\n",
       "        1.0000, 1.0000, 1.0000, 1.0000, 1.0000, 1.0000, 1.0000, 1.0000, 1.0000,\n",
       "        1.0000, 1.0000, 1.0000, 1.0000, 1.0000, 1.0000, 1.0000, 1.0000, 1.0000,\n",
       "        1.0000, 1.0000, 1.0000, 1.0000, 1.0000, 1.0000, 1.0000, 1.0000, 1.0000,\n",
       "        1.0000, 1.0000, 1.0000, 1.0000, 1.0000, 1.0000, 1.0000, 1.0000, 1.0000,\n",
       "        1.0000])"
      ]
     },
     "execution_count": 56,
     "metadata": {},
     "output_type": "execute_result"
    }
   ],
   "source": [
    "p_aba.sum(1)"
   ]
  },
  {
   "cell_type": "code",
   "execution_count": null,
   "metadata": {},
   "outputs": [],
   "source": []
  },
  {
   "cell_type": "code",
   "execution_count": 139,
   "metadata": {},
   "outputs": [
    {
     "ename": "NameError",
     "evalue": "name 'n' is not defined",
     "output_type": "error",
     "traceback": [
      "\u001b[0;31m---------------------------------------------------------------------------\u001b[0m",
      "\u001b[0;31mNameError\u001b[0m                                 Traceback (most recent call last)",
      "\u001b[0;32m<ipython-input-139-b438b0d218cb>\u001b[0m in \u001b[0;36m<module>\u001b[0;34m\u001b[0m\n\u001b[0;32m----> 1\u001b[0;31m \u001b[0mX\u001b[0m \u001b[0;34m=\u001b[0m \u001b[0mtorch\u001b[0m\u001b[0;34m.\u001b[0m\u001b[0mrandn\u001b[0m\u001b[0;34m(\u001b[0m\u001b[0;34m[\u001b[0m\u001b[0mn\u001b[0m\u001b[0;34m,\u001b[0m \u001b[0mp\u001b[0m\u001b[0;34m]\u001b[0m\u001b[0;34m)\u001b[0m \u001b[0;34m*\u001b[0m \u001b[0;36m0.5\u001b[0m\u001b[0;34m\u001b[0m\u001b[0;34m\u001b[0m\u001b[0m\n\u001b[0m\u001b[1;32m      2\u001b[0m \u001b[0;31m# X = torch.softmax(X, 0)\u001b[0m\u001b[0;34m\u001b[0m\u001b[0;34m\u001b[0m\u001b[0;34m\u001b[0m\u001b[0m\n\u001b[1;32m      3\u001b[0m \u001b[0mB\u001b[0m \u001b[0;34m=\u001b[0m \u001b[0mtorch\u001b[0m\u001b[0;34m.\u001b[0m\u001b[0mmatmul\u001b[0m\u001b[0;34m(\u001b[0m\u001b[0mX\u001b[0m\u001b[0;34m.\u001b[0m\u001b[0mT\u001b[0m\u001b[0;34m,\u001b[0m \u001b[0mX\u001b[0m\u001b[0;34m)\u001b[0m\u001b[0;34m\u001b[0m\u001b[0;34m\u001b[0m\u001b[0m\n\u001b[1;32m      4\u001b[0m \u001b[0mB\u001b[0m \u001b[0;34m=\u001b[0m \u001b[0mB\u001b[0m\u001b[0;34m.\u001b[0m\u001b[0mcuda\u001b[0m\u001b[0;34m(\u001b[0m\u001b[0;34m)\u001b[0m\u001b[0;34m\u001b[0m\u001b[0;34m\u001b[0m\u001b[0m\n\u001b[1;32m      5\u001b[0m \u001b[0mB\u001b[0m \u001b[0;34m=\u001b[0m \u001b[0mB\u001b[0m\u001b[0;34m.\u001b[0m\u001b[0mcpu\u001b[0m\u001b[0;34m(\u001b[0m\u001b[0;34m)\u001b[0m\u001b[0;34m\u001b[0m\u001b[0;34m\u001b[0m\u001b[0m\n",
      "\u001b[0;31mNameError\u001b[0m: name 'n' is not defined"
     ]
    }
   ],
   "source": [
    "X = torch.randn([n, p]) * 0.5\n",
    "# X = torch.softmax(X, 0)\n",
    "B = torch.matmul(X.T, X)\n",
    "B = B.cuda()\n",
    "B = B.cpu()\n",
    "now = time.time()\n",
    "B = torch.inverse(B)\n",
    "time.time() - now"
   ]
  },
  {
   "cell_type": "code",
   "execution_count": null,
   "metadata": {},
   "outputs": [],
   "source": []
  },
  {
   "cell_type": "code",
   "execution_count": 7,
   "metadata": {},
   "outputs": [],
   "source": [
    "new_col = v = torch.randn([n, 1]) * 0.5\n",
    "# new_col = v = torch.softmax(torch.randn([n, 1]) * 0.5, 0)"
   ]
  },
  {
   "cell_type": "code",
   "execution_count": 8,
   "metadata": {},
   "outputs": [],
   "source": [
    "def add_new_col_to_inverse(X, old_inverse, new_col):\n",
    "    B = old_inverse\n",
    "    v = new_col\n",
    "    \n",
    "    u1 = torch.matmul(X.T, v)\n",
    "    u2 = torch.matmul(B, u1)\n",
    "    F22inv = 1. / (torch.matmul(v.T, v) - torch.matmul(u1.T, u2))\n",
    "    u3 = F22inv * u2\n",
    "    F11inv = B + F22inv * u2 * u2.T\n",
    "    Bnew = torch.cat([\n",
    "        torch.cat([F11inv, -u3], 1),\n",
    "        torch.cat([-u3.T, F22inv], 1)\n",
    "    ], 0)\n",
    "    return Bnew"
   ]
  },
  {
   "cell_type": "code",
   "execution_count": 9,
   "metadata": {},
   "outputs": [
    {
     "data": {
      "text/plain": [
       "0.338165283203125"
      ]
     },
     "execution_count": 9,
     "metadata": {},
     "output_type": "execute_result"
    }
   ],
   "source": [
    "now = time.time()\n",
    "add_new_col_to_inverse(B, v)\n",
    "time.time() - now"
   ]
  },
  {
   "cell_type": "code",
   "execution_count": 29,
   "metadata": {},
   "outputs": [
    {
     "data": {
      "text/plain": [
       "tensor([[ 1.2506, -0.6256,  0.1035,  1.0205],\n",
       "        [-0.6256,  0.8223,  0.1486, -0.5141],\n",
       "        [ 0.1035,  0.1486,  0.4402,  0.3598],\n",
       "        [ 1.0205, -0.5141,  0.3598,  2.0012]])"
      ]
     },
     "execution_count": 29,
     "metadata": {},
     "output_type": "execute_result"
    }
   ],
   "source": [
    "Xnew = torch.cat([X, v], 1)\n",
    "torch.inverse(torch.matmul(Xnew.T, Xnew))"
   ]
  }
 ],
 "metadata": {
  "kernelspec": {
   "display_name": "Python 3",
   "language": "python",
   "name": "python3"
  },
  "language_info": {
   "codemirror_mode": {
    "name": "ipython",
    "version": 3
   },
   "file_extension": ".py",
   "mimetype": "text/x-python",
   "name": "python",
   "nbconvert_exporter": "python",
   "pygments_lexer": "ipython3",
   "version": "3.6.8"
  }
 },
 "nbformat": 4,
 "nbformat_minor": 2
}
