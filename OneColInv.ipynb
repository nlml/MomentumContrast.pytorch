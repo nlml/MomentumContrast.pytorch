{
 "cells": [
  {
   "cell_type": "code",
   "execution_count": 394,
   "metadata": {},
   "outputs": [],
   "source": [
    "import torch\n",
    "import time\n",
    "import torch.nn.functional as F\n",
    "\n",
    "\n",
    "n, p = 128, 4000\n",
    "col = 0\n",
    "\n",
    "a = torch.randn(100, 16) * 0.5\n",
    "b = torch.randn(500, 16) * 0.5\n",
    "\n",
    "match_ab = torch.matmul(a, torch.t(b))\n",
    "match_ba = torch.t(match_ab)\n",
    "match_bb = torch.matmul(b, torch.t(b))\n",
    "\n",
    "p_ab = F.softmax(match_ab, dim=1)\n",
    "p_bb = F.softmax(match_bb, dim=1)\n",
    "p_ba = F.softmax(match_ba, dim=1)"
   ]
  },
  {
   "cell_type": "code",
   "execution_count": 395,
   "metadata": {},
   "outputs": [],
   "source": [
    "match_ba_bb = torch.cat([match_ba, match_bb], dim=1)\n",
    "p_ba_bb = torch.clamp(F.softmax(match_ba_bb, dim=1), min=1e-8)"
   ]
  },
  {
   "cell_type": "code",
   "execution_count": 396,
   "metadata": {},
   "outputs": [],
   "source": [
    "N = a.shape[0]\n",
    "M = b.shape[0]\n",
    "Tbar_ul, Tbar_uu = p_ba_bb[:, :N], p_ba_bb[:, N:]"
   ]
  },
  {
   "cell_type": "code",
   "execution_count": 430,
   "metadata": {},
   "outputs": [],
   "source": [
    "middle = torch.inverse(torch.eye(Tbar_uu.shape[1]) - Tbar_uu)# - torch.eye(Tbar_uu.shape[1])"
   ]
  },
  {
   "cell_type": "code",
   "execution_count": 433,
   "metadata": {},
   "outputs": [],
   "source": [
    "middle = torch.eye(Tbar_uu.shape[1])\n",
    "for i in range(1, 3):\n",
    "    middle += torch.matrix_power(Tbar_uu, i)\n",
    "middle /= Tbar_uu.sum(1, keepdim=True)"
   ]
  },
  {
   "cell_type": "code",
   "execution_count": 434,
   "metadata": {},
   "outputs": [],
   "source": [
    "p_aba = torch.matmul(torch.matmul(p_ab, middle), Tbar_ul)"
   ]
  },
  {
   "cell_type": "code",
   "execution_count": 432,
   "metadata": {},
   "outputs": [
    {
     "data": {
      "text/plain": [
       "tensor([[0.0115, 0.0085, 0.0108,  ..., 0.0093, 0.0088, 0.0090],\n",
       "        [0.0093, 0.0101, 0.0103,  ..., 0.0093, 0.0085, 0.0092],\n",
       "        [0.0094, 0.0082, 0.0150,  ..., 0.0095, 0.0084, 0.0092],\n",
       "        ...,\n",
       "        [0.0094, 0.0086, 0.0111,  ..., 0.0118, 0.0089, 0.0093],\n",
       "        [0.0094, 0.0083, 0.0103,  ..., 0.0094, 0.0102, 0.0089],\n",
       "        [0.0089, 0.0083, 0.0103,  ..., 0.0090, 0.0081, 0.0117]])"
      ]
     },
     "execution_count": 432,
     "metadata": {},
     "output_type": "execute_result"
    }
   ],
   "source": [
    "p_aba"
   ]
  },
  {
   "cell_type": "code",
   "execution_count": 437,
   "metadata": {},
   "outputs": [
    {
     "data": {
      "text/plain": [
       "tensor([[0.0151, 0.0088, 0.0112,  ..., 0.0096, 0.0092, 0.0085],\n",
       "        [0.0094, 0.0128, 0.0100,  ..., 0.0097, 0.0083, 0.0090],\n",
       "        [0.0097, 0.0081, 0.0217,  ..., 0.0103, 0.0081, 0.0089],\n",
       "        ...,\n",
       "        [0.0096, 0.0090, 0.0118,  ..., 0.0157, 0.0092, 0.0091],\n",
       "        [0.0098, 0.0083, 0.0100,  ..., 0.0099, 0.0126, 0.0081],\n",
       "        [0.0084, 0.0082, 0.0101,  ..., 0.0090, 0.0074, 0.0153]])"
      ]
     },
     "execution_count": 437,
     "metadata": {},
     "output_type": "execute_result"
    }
   ],
   "source": [
    "p_aba / p_aba.sum(1, keepdim=True)"
   ]
  },
  {
   "cell_type": "code",
   "execution_count": null,
   "metadata": {},
   "outputs": [],
   "source": []
  },
  {
   "cell_type": "code",
   "execution_count": 165,
   "metadata": {},
   "outputs": [],
   "source": [
    "match_ab = torch.matmul(a, torch.t(b))\n",
    "p_ab = F.softmax(match_ab, dim=1)\n",
    "\n",
    "match_ba = torch.t(match_ab)\n",
    "match_bb = torch.matmul(b, torch.t(b))\n",
    "p_bb = torch.softmax(match_bb, dim=1)\n",
    "p_ba = F.softmax(match_ba, dim=1)\n",
    "\n",
    "match_ba_bb = torch.cat([match_ba, match_bb], dim=1)\n",
    "p_ba_bb = torch.clamp(F.softmax(match_ba_bb, dim=1), min=1e-8)\n",
    "N = a.shape[0]\n",
    "M = b.shape[0]\n",
    "Tbar_ul, Tbar_uu = p_ba_bb[:, :N], p_ba_bb[:, N:]\n",
    "I = torch.eye(M)\n",
    "I = I.cuda() if Tbar_uu.is_cuda else I\n",
    "# middle = torch.inverse(I - Tbar_uu + 1e-8)\n",
    "middle = torch.inverse(match_bb + 1e-8)\n",
    "# middle = torch.inverse(I - p_bb + 1e-8)\n",
    "p_aba = torch.matmul(torch.matmul(p_ab, middle), Tbar_ul)\n",
    "p_aba /= p_aba.sum(1, keepdim=True)\n",
    "# p_aba = torch.matmul(torch.matmul(p_ab, p_bb), p_ba)"
   ]
  },
  {
   "cell_type": "code",
   "execution_count": 162,
   "metadata": {},
   "outputs": [
    {
     "data": {
      "text/plain": [
       "tensor([1.0000, 1.0000, 1.0000, 1.0000, 1.0000, 1.0000, 1.0000, 1.0000, 1.0000,\n",
       "        1.0000])"
      ]
     },
     "execution_count": 162,
     "metadata": {},
     "output_type": "execute_result"
    }
   ],
   "source": [
    "p_aba.sum(1)"
   ]
  },
  {
   "cell_type": "code",
   "execution_count": 163,
   "metadata": {},
   "outputs": [
    {
     "data": {
      "text/plain": [
       "tensor([[ 1.2201, -0.3730,  0.6471,  ..., -0.3973, -0.3934, -0.2369],\n",
       "        [-2.3164,  0.3392, -4.5347,  ...,  0.9172,  2.8041, -0.4114],\n",
       "        [ 3.0603,  0.5993,  3.7068,  ..., -0.6661, -5.3733,  2.5896],\n",
       "        ...,\n",
       "        [ 2.4616,  0.9285,  3.8963,  ..., -0.7809, -5.4913,  1.0392],\n",
       "        [-1.4368, -0.3912, -3.5948,  ...,  0.0509,  3.4498, -0.8072],\n",
       "        [-1.6878, -0.0854, -2.4238,  ...,  0.5706,  0.5472, -1.4204]])"
      ]
     },
     "execution_count": 163,
     "metadata": {},
     "output_type": "execute_result"
    }
   ],
   "source": [
    "middle"
   ]
  },
  {
   "cell_type": "code",
   "execution_count": 128,
   "metadata": {},
   "outputs": [
    {
     "data": {
      "text/plain": [
       "tensor([[6.0889, 6.0888, 6.0887,  ..., 6.0888, 6.0890, 6.0888],\n",
       "        [6.0889, 6.0888, 6.0887,  ..., 6.0888, 6.0890, 6.0888],\n",
       "        [6.0889, 6.0888, 6.0887,  ..., 6.0888, 6.0890, 6.0888],\n",
       "        ...,\n",
       "        [6.0889, 6.0888, 6.0887,  ..., 6.0888, 6.0890, 6.0888],\n",
       "        [6.0889, 6.0888, 6.0887,  ..., 6.0888, 6.0890, 6.0888],\n",
       "        [6.0889, 6.0888, 6.0887,  ..., 6.0888, 6.0890, 6.0888]])"
      ]
     },
     "execution_count": 128,
     "metadata": {},
     "output_type": "execute_result"
    }
   ],
   "source": [
    "p_aba"
   ]
  },
  {
   "cell_type": "code",
   "execution_count": 123,
   "metadata": {},
   "outputs": [
    {
     "data": {
      "text/plain": [
       "tensor([[0.0003, 0.0002, 0.0003,  ..., 0.0003, 0.0002, 0.0002],\n",
       "        [0.0002, 0.0003, 0.0003,  ..., 0.0002, 0.0003, 0.0003],\n",
       "        [0.0003, 0.0003, 0.0003,  ..., 0.0002, 0.0002, 0.0003],\n",
       "        ...,\n",
       "        [0.0003, 0.0002, 0.0002,  ..., 0.0003, 0.0002, 0.0003],\n",
       "        [0.0002, 0.0003, 0.0002,  ..., 0.0002, 0.0003, 0.0002],\n",
       "        [0.0002, 0.0003, 0.0003,  ..., 0.0003, 0.0002, 0.0003]])"
      ]
     },
     "execution_count": 123,
     "metadata": {},
     "output_type": "execute_result"
    }
   ],
   "source": [
    "p_bb"
   ]
  },
  {
   "cell_type": "code",
   "execution_count": null,
   "metadata": {},
   "outputs": [],
   "source": [
    "p_ab"
   ]
  },
  {
   "cell_type": "code",
   "execution_count": 113,
   "metadata": {},
   "outputs": [
    {
     "data": {
      "text/plain": [
       "tensor([[1.0100, 0.0100, 0.0100,  ..., 0.0100, 0.0100, 0.0100],\n",
       "        [0.0100, 1.0100, 0.0100,  ..., 0.0100, 0.0100, 0.0100],\n",
       "        [0.0100, 0.0100, 1.0100,  ..., 0.0100, 0.0100, 0.0100],\n",
       "        ...,\n",
       "        [0.0100, 0.0100, 0.0100,  ..., 1.0100, 0.0100, 0.0100],\n",
       "        [0.0100, 0.0100, 0.0100,  ..., 0.0100, 1.0100, 0.0100],\n",
       "        [0.0100, 0.0100, 0.0100,  ..., 0.0100, 0.0100, 1.0100]])"
      ]
     },
     "execution_count": 113,
     "metadata": {},
     "output_type": "execute_result"
    }
   ],
   "source": [
    "middle"
   ]
  },
  {
   "cell_type": "code",
   "execution_count": 114,
   "metadata": {},
   "outputs": [
    {
     "data": {
      "text/plain": [
       "tensor([[0.0002, 0.0002, 0.0002,  ..., 0.0002, 0.0002, 0.0002],\n",
       "        [0.0002, 0.0002, 0.0002,  ..., 0.0002, 0.0002, 0.0002],\n",
       "        [0.0002, 0.0002, 0.0002,  ..., 0.0002, 0.0002, 0.0002],\n",
       "        ...,\n",
       "        [0.0002, 0.0002, 0.0002,  ..., 0.0002, 0.0002, 0.0002],\n",
       "        [0.0002, 0.0002, 0.0002,  ..., 0.0002, 0.0002, 0.0002],\n",
       "        [0.0002, 0.0002, 0.0002,  ..., 0.0002, 0.0002, 0.0002]])"
      ]
     },
     "execution_count": 114,
     "metadata": {},
     "output_type": "execute_result"
    }
   ],
   "source": [
    "Tbar_ul"
   ]
  },
  {
   "cell_type": "code",
   "execution_count": 115,
   "metadata": {},
   "outputs": [
    {
     "data": {
      "text/plain": [
       "tensor([[0.0100, 0.0100, 0.0100,  ..., 0.0100, 0.0100, 0.0100],\n",
       "        [0.0100, 0.0100, 0.0100,  ..., 0.0100, 0.0100, 0.0100],\n",
       "        [0.0100, 0.0100, 0.0100,  ..., 0.0100, 0.0100, 0.0100],\n",
       "        ...,\n",
       "        [0.0100, 0.0100, 0.0100,  ..., 0.0100, 0.0100, 0.0100],\n",
       "        [0.0100, 0.0100, 0.0100,  ..., 0.0100, 0.0100, 0.0100],\n",
       "        [0.0100, 0.0100, 0.0100,  ..., 0.0100, 0.0100, 0.0100]])"
      ]
     },
     "execution_count": 115,
     "metadata": {},
     "output_type": "execute_result"
    }
   ],
   "source": [
    "p_aba"
   ]
  },
  {
   "cell_type": "code",
   "execution_count": 116,
   "metadata": {},
   "outputs": [
    {
     "data": {
      "text/plain": [
       "tensor([[0.9984],\n",
       "        [0.9984],\n",
       "        [0.9984],\n",
       "        [0.9984],\n",
       "        [0.9984],\n",
       "        [0.9984],\n",
       "        [0.9984],\n",
       "        [0.9984],\n",
       "        [0.9984],\n",
       "        [0.9984],\n",
       "        [0.9984],\n",
       "        [0.9984],\n",
       "        [0.9984],\n",
       "        [0.9984],\n",
       "        [0.9984],\n",
       "        [0.9984],\n",
       "        [0.9984],\n",
       "        [0.9984],\n",
       "        [0.9984],\n",
       "        [0.9984],\n",
       "        [0.9984],\n",
       "        [0.9984],\n",
       "        [0.9984],\n",
       "        [0.9984],\n",
       "        [0.9984],\n",
       "        [0.9984],\n",
       "        [0.9984],\n",
       "        [0.9984],\n",
       "        [0.9984],\n",
       "        [0.9984],\n",
       "        [0.9984],\n",
       "        [0.9984],\n",
       "        [0.9984],\n",
       "        [0.9984],\n",
       "        [0.9984],\n",
       "        [0.9984],\n",
       "        [0.9984],\n",
       "        [0.9984],\n",
       "        [0.9984],\n",
       "        [0.9984],\n",
       "        [0.9984],\n",
       "        [0.9984],\n",
       "        [0.9984],\n",
       "        [0.9984],\n",
       "        [0.9984],\n",
       "        [0.9984],\n",
       "        [0.9984],\n",
       "        [0.9984],\n",
       "        [0.9984],\n",
       "        [0.9984],\n",
       "        [0.9984],\n",
       "        [0.9984],\n",
       "        [0.9984],\n",
       "        [0.9984],\n",
       "        [0.9984],\n",
       "        [0.9984],\n",
       "        [0.9984],\n",
       "        [0.9984],\n",
       "        [0.9984],\n",
       "        [0.9984],\n",
       "        [0.9984],\n",
       "        [0.9984],\n",
       "        [0.9984],\n",
       "        [0.9984],\n",
       "        [0.9984],\n",
       "        [0.9984],\n",
       "        [0.9984],\n",
       "        [0.9984],\n",
       "        [0.9984],\n",
       "        [0.9984],\n",
       "        [0.9984],\n",
       "        [0.9984],\n",
       "        [0.9984],\n",
       "        [0.9984],\n",
       "        [0.9984],\n",
       "        [0.9984],\n",
       "        [0.9984],\n",
       "        [0.9984],\n",
       "        [0.9984],\n",
       "        [0.9984],\n",
       "        [0.9984],\n",
       "        [0.9984],\n",
       "        [0.9984],\n",
       "        [0.9984],\n",
       "        [0.9984],\n",
       "        [0.9984],\n",
       "        [0.9984],\n",
       "        [0.9984],\n",
       "        [0.9984],\n",
       "        [0.9984],\n",
       "        [0.9984],\n",
       "        [0.9984],\n",
       "        [0.9984],\n",
       "        [0.9984],\n",
       "        [0.9984],\n",
       "        [0.9984],\n",
       "        [0.9984],\n",
       "        [0.9984],\n",
       "        [0.9984],\n",
       "        [0.9984]])"
      ]
     },
     "execution_count": 116,
     "metadata": {},
     "output_type": "execute_result"
    }
   ],
   "source": [
    "p_aba.sum(1, keepdim=True)"
   ]
  },
  {
   "cell_type": "code",
   "execution_count": 96,
   "metadata": {},
   "outputs": [
    {
     "data": {
      "text/plain": [
       "tensor([[0.5052, 0.4948],\n",
       "        [0.5018, 0.4982]])"
      ]
     },
     "execution_count": 96,
     "metadata": {},
     "output_type": "execute_result"
    }
   ],
   "source": [
    "(p_aba / p_aba.sum(1, keepdim=True))"
   ]
  },
  {
   "cell_type": "code",
   "execution_count": null,
   "metadata": {},
   "outputs": [],
   "source": []
  },
  {
   "cell_type": "code",
   "execution_count": null,
   "metadata": {},
   "outputs": [],
   "source": []
  },
  {
   "cell_type": "code",
   "execution_count": 55,
   "metadata": {},
   "outputs": [],
   "source": [
    "match_ab = torch.matmul(a, torch.t(b))\n",
    "p_ab = F.softmax(match_ab, dim=1)\n",
    "p_ba = F.softmax(torch.t(match_ab), dim=1)\n",
    "p_aba = torch.matmul(p_ab, p_ba)"
   ]
  },
  {
   "cell_type": "code",
   "execution_count": 56,
   "metadata": {},
   "outputs": [
    {
     "data": {
      "text/plain": [
       "tensor([1.0000, 1.0000, 1.0000, 1.0000, 1.0000, 1.0000, 1.0000, 1.0000, 1.0000,\n",
       "        1.0000, 1.0000, 1.0000, 1.0000, 1.0000, 1.0000, 1.0000, 1.0000, 1.0000,\n",
       "        1.0000, 1.0000, 1.0000, 1.0000, 1.0000, 1.0000, 1.0000, 1.0000, 1.0000,\n",
       "        1.0000, 1.0000, 1.0000, 1.0000, 1.0000, 1.0000, 1.0000, 1.0000, 1.0000,\n",
       "        1.0000, 1.0000, 1.0000, 1.0000, 1.0000, 1.0000, 1.0000, 1.0000, 1.0000,\n",
       "        1.0000, 1.0000, 1.0000, 1.0000, 1.0000, 1.0000, 1.0000, 1.0000, 1.0000,\n",
       "        1.0000, 1.0000, 1.0000, 1.0000, 1.0000, 1.0000, 1.0000, 1.0000, 1.0000,\n",
       "        1.0000, 1.0000, 1.0000, 1.0000, 1.0000, 1.0000, 1.0000, 1.0000, 1.0000,\n",
       "        1.0000, 1.0000, 1.0000, 1.0000, 1.0000, 1.0000, 1.0000, 1.0000, 1.0000,\n",
       "        1.0000, 1.0000, 1.0000, 1.0000, 1.0000, 1.0000, 1.0000, 1.0000, 1.0000,\n",
       "        1.0000, 1.0000, 1.0000, 1.0000, 1.0000, 1.0000, 1.0000, 1.0000, 1.0000,\n",
       "        1.0000])"
      ]
     },
     "execution_count": 56,
     "metadata": {},
     "output_type": "execute_result"
    }
   ],
   "source": [
    "p_aba.sum(1)"
   ]
  },
  {
   "cell_type": "code",
   "execution_count": null,
   "metadata": {},
   "outputs": [],
   "source": []
  },
  {
   "cell_type": "code",
   "execution_count": 21,
   "metadata": {},
   "outputs": [
    {
     "data": {
      "text/plain": [
       "1.1735286712646484"
      ]
     },
     "execution_count": 21,
     "metadata": {},
     "output_type": "execute_result"
    }
   ],
   "source": [
    "X = torch.randn([n, p]) * 0.5\n",
    "# X = torch.softmax(X, 0)\n",
    "B = torch.matmul(X.T, X)\n",
    "B = B.cuda()\n",
    "B = B.cpu()\n",
    "now = time.time()\n",
    "B = torch.inverse(B)\n",
    "time.time() - now"
   ]
  },
  {
   "cell_type": "code",
   "execution_count": null,
   "metadata": {},
   "outputs": [],
   "source": []
  },
  {
   "cell_type": "code",
   "execution_count": 7,
   "metadata": {},
   "outputs": [],
   "source": [
    "new_col = v = torch.randn([n, 1]) * 0.5\n",
    "# new_col = v = torch.softmax(torch.randn([n, 1]) * 0.5, 0)"
   ]
  },
  {
   "cell_type": "code",
   "execution_count": 8,
   "metadata": {},
   "outputs": [],
   "source": [
    "def add_new_col_to_inverse(old_inverse, new_col):\n",
    "    B = old_inverse\n",
    "    v = new_col\n",
    "    \n",
    "    u1 = torch.matmul(X.T, v)\n",
    "    u2 = torch.matmul(B, u1)\n",
    "    F22inv = 1. / (torch.matmul(v.T, v) - torch.matmul(u1.T, u2))\n",
    "    u3 = F22inv * u2\n",
    "    F11inv = B + F22inv * u2 * u2.T\n",
    "    Bnew = torch.cat([\n",
    "        torch.cat([F11inv, -u3], 1),\n",
    "        torch.cat([-u3.T, F22inv], 1)\n",
    "    ], 0)\n",
    "    return Bnew"
   ]
  },
  {
   "cell_type": "code",
   "execution_count": 9,
   "metadata": {},
   "outputs": [
    {
     "data": {
      "text/plain": [
       "0.338165283203125"
      ]
     },
     "execution_count": 9,
     "metadata": {},
     "output_type": "execute_result"
    }
   ],
   "source": [
    "now = time.time()\n",
    "add_new_col_to_inverse(B, v)\n",
    "time.time() - now"
   ]
  },
  {
   "cell_type": "code",
   "execution_count": 29,
   "metadata": {},
   "outputs": [
    {
     "data": {
      "text/plain": [
       "tensor([[ 1.2506, -0.6256,  0.1035,  1.0205],\n",
       "        [-0.6256,  0.8223,  0.1486, -0.5141],\n",
       "        [ 0.1035,  0.1486,  0.4402,  0.3598],\n",
       "        [ 1.0205, -0.5141,  0.3598,  2.0012]])"
      ]
     },
     "execution_count": 29,
     "metadata": {},
     "output_type": "execute_result"
    }
   ],
   "source": [
    "Xnew = torch.cat([X, v], 1)\n",
    "torch.inverse(torch.matmul(Xnew.T, Xnew))"
   ]
  }
 ],
 "metadata": {
  "kernelspec": {
   "display_name": "Python 3",
   "language": "python",
   "name": "python3"
  },
  "language_info": {
   "codemirror_mode": {
    "name": "ipython",
    "version": 3
   },
   "file_extension": ".py",
   "mimetype": "text/x-python",
   "name": "python",
   "nbconvert_exporter": "python",
   "pygments_lexer": "ipython3",
   "version": "3.6.8"
  }
 },
 "nbformat": 4,
 "nbformat_minor": 2
}
