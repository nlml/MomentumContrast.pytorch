{
 "cells": [
  {
   "cell_type": "code",
   "execution_count": 22,
   "metadata": {},
   "outputs": [],
   "source": [
    "import torch\n",
    "import time\n",
    "n, p = 128, 4000\n",
    "col = 0"
   ]
  },
  {
   "cell_type": "code",
   "execution_count": null,
   "metadata": {},
   "outputs": [],
   "source": [
    "match_ab = torch.matmul(a, torch.t(b))\n",
    "p_ab = F.softmax(match_ab, dim=1)\n",
    "\n",
    "match_ba = torch.t(match_ab)\n",
    "match_bb = torch.matmul(b, torch.t(b))\n",
    "add = np.log(gamma) if gamma < 1.0 else 0.0\n",
    "match_ab_bb = torch.cat([match_ba, match_bb + add], dim=1)\n",
    "p_ba_bb = torch.clamp(F.softmax(match_ab_bb, dim=1), min=1e-8)\n",
    "N = a.shape[0]\n",
    "M = b.shape[0]\n",
    "Tbar_ul, Tbar_uu = p_ba_bb[:, :N], p_ba_bb[:, N:]\n",
    "I = torch.eye(M)\n",
    "I = I.cuda() if Tbar_uu.is_cuda else I\n",
    "middle = torch.inverse(I - Tbar_uu + 1e-8)\n",
    "p_aba = torch.matmul(torch.matmul(p_ab, middle), Tbar_ul)"
   ]
  },
  {
   "cell_type": "code",
   "execution_count": null,
   "metadata": {},
   "outputs": [],
   "source": []
  },
  {
   "cell_type": "code",
   "execution_count": null,
   "metadata": {},
   "outputs": [],
   "source": []
  },
  {
   "cell_type": "code",
   "execution_count": null,
   "metadata": {},
   "outputs": [],
   "source": []
  },
  {
   "cell_type": "code",
   "execution_count": null,
   "metadata": {},
   "outputs": [],
   "source": []
  },
  {
   "cell_type": "code",
   "execution_count": 21,
   "metadata": {},
   "outputs": [
    {
     "data": {
      "text/plain": [
       "1.1735286712646484"
      ]
     },
     "execution_count": 21,
     "metadata": {},
     "output_type": "execute_result"
    }
   ],
   "source": [
    "X = torch.randn([n, p]) * 0.5\n",
    "# X = torch.softmax(X, 0)\n",
    "B = torch.matmul(X.T, X)\n",
    "B = B.cuda()\n",
    "B = B.cpu()\n",
    "now = time.time()\n",
    "B = torch.inverse(B)\n",
    "time.time() - now"
   ]
  },
  {
   "cell_type": "code",
   "execution_count": null,
   "metadata": {},
   "outputs": [],
   "source": []
  },
  {
   "cell_type": "code",
   "execution_count": 7,
   "metadata": {},
   "outputs": [],
   "source": [
    "new_col = v = torch.randn([n, 1]) * 0.5\n",
    "# new_col = v = torch.softmax(torch.randn([n, 1]) * 0.5, 0)"
   ]
  },
  {
   "cell_type": "code",
   "execution_count": 8,
   "metadata": {},
   "outputs": [],
   "source": [
    "def add_new_col_to_inverse(old_inverse, new_col):\n",
    "    B = old_inverse\n",
    "    v = new_col\n",
    "    \n",
    "    u1 = torch.matmul(X.T, v)\n",
    "    u2 = torch.matmul(B, u1)\n",
    "    F22inv = 1. / (torch.matmul(v.T, v) - torch.matmul(u1.T, u2))\n",
    "    u3 = F22inv * u2\n",
    "    F11inv = B + F22inv * u2 * u2.T\n",
    "    Bnew = torch.cat([\n",
    "        torch.cat([F11inv, -u3], 1),\n",
    "        torch.cat([-u3.T, F22inv], 1)\n",
    "    ], 0)\n",
    "    return Bnew"
   ]
  },
  {
   "cell_type": "code",
   "execution_count": 9,
   "metadata": {},
   "outputs": [
    {
     "data": {
      "text/plain": [
       "0.338165283203125"
      ]
     },
     "execution_count": 9,
     "metadata": {},
     "output_type": "execute_result"
    }
   ],
   "source": [
    "now = time.time()\n",
    "add_new_col_to_inverse(B, v)\n",
    "time.time() - now"
   ]
  },
  {
   "cell_type": "code",
   "execution_count": 29,
   "metadata": {},
   "outputs": [
    {
     "data": {
      "text/plain": [
       "tensor([[ 1.2506, -0.6256,  0.1035,  1.0205],\n",
       "        [-0.6256,  0.8223,  0.1486, -0.5141],\n",
       "        [ 0.1035,  0.1486,  0.4402,  0.3598],\n",
       "        [ 1.0205, -0.5141,  0.3598,  2.0012]])"
      ]
     },
     "execution_count": 29,
     "metadata": {},
     "output_type": "execute_result"
    }
   ],
   "source": [
    "Xnew = torch.cat([X, v], 1)\n",
    "torch.inverse(torch.matmul(Xnew.T, Xnew))"
   ]
  }
 ],
 "metadata": {
  "kernelspec": {
   "display_name": "Python 3",
   "language": "python",
   "name": "python3"
  },
  "language_info": {
   "codemirror_mode": {
    "name": "ipython",
    "version": 3
   },
   "file_extension": ".py",
   "mimetype": "text/x-python",
   "name": "python",
   "nbconvert_exporter": "python",
   "pygments_lexer": "ipython3",
   "version": "3.6.8"
  }
 },
 "nbformat": 4,
 "nbformat_minor": 2
}
