{
 "cells": [
  {
   "cell_type": "code",
   "execution_count": 1,
   "metadata": {},
   "outputs": [],
   "source": [
    "import torch\n",
    "import time\n",
    "import torch.nn.functional as F"
   ]
  },
  {
   "cell_type": "code",
   "execution_count": 2,
   "metadata": {},
   "outputs": [],
   "source": [
    "def add_new_col_to_inverse(X, old_inverse, new_col, N=None, n=None):\n",
    "    B = old_inverse\n",
    "    v = new_col\n",
    "    u1 = torch.matmul(X.T, v)\n",
    "    u2 = torch.matmul(B, u1)\n",
    "    F22inv = 1. / (torch.matmul(v.T, v) - torch.matmul(u1.T, u2))\n",
    "    u3 = F22inv * u2\n",
    "    F11inv = B + F22inv * u2 * u2.T\n",
    "    if N is not None:\n",
    "        Bnew = torch.cat([\n",
    "            torch.cat([N - F11inv, -u3], 1),\n",
    "            torch.cat([-u3.T, n - F22inv], 1)\n",
    "        ], 0)\n",
    "    else:\n",
    "        Bnew = torch.cat([\n",
    "            torch.cat([F11inv, -u3], 1),\n",
    "            torch.cat([-u3.T, F22inv], 1)\n",
    "        ], 0)\n",
    "    return Bnew"
   ]
  },
  {
   "cell_type": "code",
   "execution_count": 44,
   "metadata": {},
   "outputs": [],
   "source": [
    "L = 3\n",
    "U = 6\n",
    "dim = 3\n",
    "a = torch.randn(L, dim)\n",
    "b = torch.randn(U, dim)\n",
    "b[:3] = a[:3].clone() + F.normalize(torch.randn(3, dim), 1) * .1\n",
    "# a, b = [F.normalize(i, 1) for i in [a, b]]\n",
    "m_ab = torch.mm(a, b.T)\n",
    "m_ba = m_ab.T\n",
    "m_bb = torch.mm(b, b.T)\n",
    "m_ba_bb = torch.cat([m_ba, m_bb], 1)\n",
    "p_ab = torch.softmax(m_ab, 1)"
   ]
  },
  {
   "cell_type": "code",
   "execution_count": 45,
   "metadata": {},
   "outputs": [],
   "source": [
    "exp_m_ba_bb = torch.exp(m_ba_bb)\n",
    "exp_m_ba_bb -= exp_m_ba_bb.min()\n",
    "normaliser = exp_m_ba_bb.sum(1, keepdim=True)"
   ]
  },
  {
   "cell_type": "code",
   "execution_count": 46,
   "metadata": {},
   "outputs": [
    {
     "data": {
      "text/plain": [
       "tensor([[ 1.3043, -0.7698, -2.4065, -0.7296,  1.9234, -2.7606],\n",
       "        [-0.7698,  1.6603,  1.4536, -0.6337,  0.1411,  1.6433],\n",
       "        [-2.4065,  1.4536,  4.8112,  1.0479, -4.8361,  4.6516],\n",
       "        [-0.7296, -0.6337,  1.0479,  1.5428, -1.2417,  1.8529],\n",
       "        [ 1.9234,  0.1411, -4.8361, -1.2417,  8.9123, -2.4767],\n",
       "        [-2.7606,  1.6433,  4.6516,  1.8529, -2.4767,  6.3705]])"
      ]
     },
     "execution_count": 46,
     "metadata": {},
     "output_type": "execute_result"
    }
   ],
   "source": [
    "m_bb"
   ]
  },
  {
   "cell_type": "code",
   "execution_count": 47,
   "metadata": {},
   "outputs": [],
   "source": [
    "Tbar_uu, Tbar_ul = (\n",
    "    torch.softmax(m_ba_bb, 1)[:, L:], \n",
    "    torch.softmax(m_ba_bb, 1)[:, :L]\n",
    ")\n",
    "Tbar_uu_unnorm = exp_m_ba_bb[:, L:] - exp_m_ba_bb.min()"
   ]
  },
  {
   "cell_type": "code",
   "execution_count": 48,
   "metadata": {},
   "outputs": [],
   "source": [
    "N = torch.diag(1 / normaliser[:, 0])\n",
    "Nm1 = torch.diag(normaliser[:, 0])"
   ]
  },
  {
   "cell_type": "code",
   "execution_count": 49,
   "metadata": {},
   "outputs": [],
   "source": [
    "middle = torch.inverse(torch.clamp(torch.eye(U) - Tbar_uu, -1, 1 - 1e-8))"
   ]
  },
  {
   "cell_type": "code",
   "execution_count": 50,
   "metadata": {},
   "outputs": [],
   "source": [
    "vals, V = torch.eig(Tbar_uu, True)"
   ]
  },
  {
   "cell_type": "code",
   "execution_count": 54,
   "metadata": {},
   "outputs": [
    {
     "data": {
      "text/plain": [
       "array([[-0.495, -0.051,  0.414,  0.701,  0.592,  0.784],\n",
       "       [-0.061, -0.334, -0.903,  0.158,  0.404,  0.001],\n",
       "       [-0.004, -0.422,  0.075,  0.016,  0.158, -0.216],\n",
       "       [-0.04 , -0.517,  0.091, -0.696,  0.676,  0.579],\n",
       "       [-0.866,  0.001, -0.   , -0.001, -0.001, -0.001],\n",
       "       [-0.005, -0.664, -0.008,  0.005, -0.065,  0.05 ]], dtype=float32)"
      ]
     },
     "execution_count": 54,
     "metadata": {},
     "output_type": "execute_result"
    }
   ],
   "source": [
    "V.numpy().round(3)"
   ]
  },
  {
   "cell_type": "code",
   "execution_count": 59,
   "metadata": {},
   "outputs": [
    {
     "data": {
      "text/plain": [
       "array([[1.700e+00, 1.000e-01, 2.000e-01, 1.000e-01, 3.460e+02, 4.000e-01],\n",
       "       [1.000e-01, 1.300e+00, 7.000e-01, 1.000e-01, 4.260e+01, 1.800e+00],\n",
       "       [0.000e+00, 1.000e-01, 2.000e+00, 0.000e+00, 2.900e+00, 2.300e+00],\n",
       "       [1.000e-01, 1.000e-01, 9.000e-01, 1.400e+00, 2.780e+01, 2.800e+00],\n",
       "       [7.000e-01, 2.000e-01, 1.000e-01, 1.000e-01, 6.062e+02, 4.000e-01],\n",
       "       [0.000e+00, 1.000e-01, 1.000e+00, 1.000e-01, 3.600e+00, 5.000e+00]],\n",
       "      dtype=float32)"
      ]
     },
     "execution_count": 59,
     "metadata": {},
     "output_type": "execute_result"
    }
   ],
   "source": [
    "middle.numpy().round(1)"
   ]
  },
  {
   "cell_type": "code",
   "execution_count": 63,
   "metadata": {},
   "outputs": [
    {
     "data": {
      "text/plain": [
       "array([[-1.000e-03, -0.000e+00, -0.000e+00, -0.000e+00, -1.154e+00,\n",
       "        -1.000e-03],\n",
       "       [-2.000e-03, -2.100e-02, -3.560e-01, -2.300e-02,  1.300e-02,\n",
       "        -1.252e+00],\n",
       "       [ 2.470e-01, -9.030e-01,  1.007e+00,  6.500e-02, -8.400e-02,\n",
       "        -2.560e-01],\n",
       "       [ 6.250e-01,  2.370e-01,  3.220e-01, -7.450e-01, -3.430e-01,\n",
       "         2.070e-01],\n",
       "       [ 3.040e-01,  3.490e-01,  1.830e+00,  4.160e-01, -2.160e-01,\n",
       "        -1.688e+00],\n",
       "       [ 3.560e-01,  0.000e+00, -2.224e+00,  3.160e-01, -2.140e-01,\n",
       "         1.142e+00]], dtype=float32)"
      ]
     },
     "execution_count": 63,
     "metadata": {},
     "output_type": "execute_result"
    }
   ],
   "source": [
    "torch.inverse(V).numpy().round(3)"
   ]
  },
  {
   "cell_type": "code",
   "execution_count": 52,
   "metadata": {},
   "outputs": [
    {
     "data": {
      "text/plain": [
       "array([[ 0.998, -0.   , -0.   , -0.   , -0.   , -0.   ],\n",
       "       [-0.   ,  0.824, -0.   ,  0.   , -0.   , -0.   ],\n",
       "       [-0.   , -0.   ,  0.177, -0.   ,  0.   ,  0.   ],\n",
       "       [-0.   , -0.   ,  0.   ,  0.21 ,  0.   ,  0.   ],\n",
       "       [-0.   ,  0.   ,  0.   , -0.   ,  0.289,  0.   ],\n",
       "       [ 0.   , -0.   , -0.   ,  0.   , -0.   ,  0.254]], dtype=float32)"
      ]
     },
     "execution_count": 52,
     "metadata": {},
     "output_type": "execute_result"
    }
   ],
   "source": [
    "torch.mm(torch.inverse(V), torch.matmul(Tbar_uu, V)).numpy().round(3)"
   ]
  },
  {
   "cell_type": "code",
   "execution_count": 30,
   "metadata": {},
   "outputs": [
    {
     "data": {
      "text/plain": [
       "array([[1.  , 0.  , 0.  , 0.  , 0.  , 0.  ],\n",
       "       [0.  , 1.  , 0.  , 0.  , 0.  , 0.  ],\n",
       "       [0.  , 1.  , 0.  , 0.  , 0.  , 0.  ],\n",
       "       [0.13, 0.  , 0.01, 0.19, 0.1 , 0.13],\n",
       "       [0.  , 0.79, 0.21, 0.  , 0.  , 0.  ],\n",
       "       [0.01, 0.36, 0.43, 0.02, 0.03, 0.03]], dtype=float32)"
      ]
     },
     "execution_count": 30,
     "metadata": {},
     "output_type": "execute_result"
    }
   ],
   "source": [
    "Tbar_uu.numpy().round(2)"
   ]
  },
  {
   "cell_type": "code",
   "execution_count": 64,
   "metadata": {},
   "outputs": [
    {
     "data": {
      "text/plain": [
       "tensor([[0.6431, 0.1564, 0.2005],\n",
       "        [0.1126, 0.1315, 0.7560],\n",
       "        [0.0103, 0.0541, 0.9356]])"
      ]
     },
     "execution_count": 64,
     "metadata": {},
     "output_type": "execute_result"
    }
   ],
   "source": [
    "p_aba = torch.matmul(torch.matmul(p_ab, middle), Tbar_ul)\n",
    "p_aba"
   ]
  },
  {
   "cell_type": "code",
   "execution_count": 106,
   "metadata": {},
   "outputs": [
    {
     "data": {
      "text/plain": [
       "array([[0.333, 0.   , 0.   , 0.333, 0.   , 0.333],\n",
       "       [0.   , 0.333, 0.333, 0.   , 0.333, 0.   ],\n",
       "       [0.333, 0.   , 0.333, 0.   , 0.333, 0.   ],\n",
       "       [0.333, 0.   , 0.   , 0.   , 0.333, 0.333],\n",
       "       [0.   , 0.333, 0.333, 0.   , 0.   , 0.333],\n",
       "       [0.   , 0.333, 0.   , 0.333, 0.   , 0.333]], dtype=float32)"
      ]
     },
     "execution_count": 106,
     "metadata": {},
     "output_type": "execute_result"
    }
   ],
   "source": [
    "p_bb.numpy().round(3)"
   ]
  },
  {
   "cell_type": "code",
   "execution_count": 107,
   "metadata": {},
   "outputs": [
    {
     "data": {
      "text/plain": [
       "tensor([[ 1.3043, -0.7698, -2.4065, -0.7296,  1.9234, -2.7606],\n",
       "        [-0.7698,  1.6603,  1.4536, -0.6337,  0.1411,  1.6433],\n",
       "        [-2.4065,  1.4536,  4.8112,  1.0479, -4.8361,  4.6516],\n",
       "        [-0.7296, -0.6337,  1.0479,  1.5428, -1.2417,  1.8529],\n",
       "        [ 1.9234,  0.1411, -4.8361, -1.2417,  8.9123, -2.4767],\n",
       "        [-2.7606,  1.6433,  4.6516,  1.8529, -2.4767,  6.3705]])"
      ]
     },
     "execution_count": 107,
     "metadata": {},
     "output_type": "execute_result"
    }
   ],
   "source": [
    "m_bb"
   ]
  },
  {
   "cell_type": "code",
   "execution_count": 104,
   "metadata": {},
   "outputs": [
    {
     "data": {
      "text/plain": [
       "array([[0.317, 0.04 , 0.008, 0.041, 0.589, 0.005],\n",
       "       [0.027, 0.312, 0.254, 0.031, 0.068, 0.307],\n",
       "       [0.   , 0.018, 0.523, 0.012, 0.   , 0.446],\n",
       "       [0.032, 0.035, 0.187, 0.308, 0.019, 0.419],\n",
       "       [0.001, 0.   , 0.   , 0.   , 0.999, 0.   ],\n",
       "       [0.   , 0.007, 0.149, 0.009, 0.   , 0.834]], dtype=float32)"
      ]
     },
     "execution_count": 104,
     "metadata": {},
     "output_type": "execute_result"
    }
   ],
   "source": [
    "p_bb.numpy().round(3)"
   ]
  },
  {
   "cell_type": "code",
   "execution_count": 98,
   "metadata": {},
   "outputs": [
    {
     "data": {
      "text/plain": [
       "tensor([[5, 2, 1, 3, 0, 4],\n",
       "        [0, 3, 4, 2, 5, 1],\n",
       "        [4, 0, 3, 1, 5, 2],\n",
       "        [4, 0, 1, 2, 3, 5],\n",
       "        [2, 5, 3, 1, 0, 4],\n",
       "        [0, 4, 1, 3, 2, 5]])"
      ]
     },
     "execution_count": 98,
     "metadata": {},
     "output_type": "execute_result"
    }
   ],
   "source": [
    "m_bb.argsort(1)"
   ]
  },
  {
   "cell_type": "code",
   "execution_count": 108,
   "metadata": {},
   "outputs": [
    {
     "data": {
      "text/plain": [
       "tensor([[0.3333, 0.0000, 0.0000, 0.3333, 0.0000, 0.3333],\n",
       "        [0.0000, 0.3333, 0.3333, 0.0000, 0.3333, 0.0000],\n",
       "        [0.3333, 0.0000, 0.3333, 0.0000, 0.3333, 0.0000],\n",
       "        [0.3333, 0.0000, 0.0000, 0.0000, 0.3333, 0.3333],\n",
       "        [0.0000, 0.3333, 0.3333, 0.0000, 0.0000, 0.3333],\n",
       "        [0.0000, 0.3333, 0.0000, 0.3333, 0.0000, 0.3333]])"
      ]
     },
     "execution_count": 108,
     "metadata": {},
     "output_type": "execute_result"
    }
   ],
   "source": [
    "p_bb"
   ]
  },
  {
   "cell_type": "code",
   "execution_count": 112,
   "metadata": {},
   "outputs": [
    {
     "data": {
      "text/plain": [
       "tensor([0, 3, 5, 1, 2, 4, 0, 2, 4, 0, 4, 5, 1, 2, 5, 1, 3, 5])"
      ]
     },
     "execution_count": 112,
     "metadata": {},
     "output_type": "execute_result"
    }
   ],
   "source": []
  },
  {
   "cell_type": "code",
   "execution_count": 114,
   "metadata": {},
   "outputs": [
    {
     "data": {
      "text/plain": [
       "tensor([0, 3, 5, 1, 2, 4, 0, 2, 4, 0, 4, 5, 1, 2, 5, 1, 3, 5])"
      ]
     },
     "execution_count": 114,
     "metadata": {},
     "output_type": "execute_result"
    }
   ],
   "source": [
    "[1]"
   ]
  },
  {
   "cell_type": "code",
   "execution_count": 117,
   "metadata": {},
   "outputs": [
    {
     "data": {
      "text/plain": [
       "tensor([[0.3333, 0.0000, 0.0000, 0.3333, 0.0000, 0.3333],\n",
       "        [0.0000, 0.3333, 0.3333, 0.0000, 0.3333, 0.0000],\n",
       "        [0.3333, 0.0000, 0.3333, 0.0000, 0.3333, 0.0000],\n",
       "        [0.3333, 0.0000, 0.0000, 0.0000, 0.3333, 0.3333],\n",
       "        [0.0000, 0.3333, 0.3333, 0.0000, 0.0000, 0.3333],\n",
       "        [0.0000, 0.3333, 0.0000, 0.3333, 0.0000, 0.3333]])"
      ]
     },
     "execution_count": 117,
     "metadata": {},
     "output_type": "execute_result"
    }
   ],
   "source": [
    "p_bb"
   ]
  },
  {
   "cell_type": "code",
   "execution_count": 122,
   "metadata": {},
   "outputs": [
    {
     "data": {
      "text/plain": [
       "tensor([[ 1.3043, -0.7698, -2.4065, -0.7296,  1.9234, -2.7606],\n",
       "        [-0.7698,  1.6603,  1.4536, -0.6337,  0.1411,  1.6433],\n",
       "        [-2.4065,  1.4536,  4.8112,  1.0479, -4.8361,  4.6516],\n",
       "        [-0.7296, -0.6337,  1.0479,  1.5428, -1.2417,  1.8529],\n",
       "        [ 1.9234,  0.1411, -4.8361, -1.2417,  8.9123, -2.4767],\n",
       "        [-2.7606,  1.6433,  4.6516,  1.8529, -2.4767,  6.3705]])"
      ]
     },
     "execution_count": 122,
     "metadata": {},
     "output_type": "execute_result"
    }
   ],
   "source": [
    "m_bb[:]"
   ]
  },
  {
   "cell_type": "code",
   "execution_count": 119,
   "metadata": {},
   "outputs": [
    {
     "data": {
      "text/plain": [
       "tensor([[ True, False, False,  True, False,  True],\n",
       "        [False,  True,  True, False,  True, False],\n",
       "        [ True, False,  True, False,  True, False],\n",
       "        [ True, False, False, False,  True,  True],\n",
       "        [False,  True,  True, False, False,  True],\n",
       "        [False,  True, False,  True, False,  True]])"
      ]
     },
     "execution_count": 119,
     "metadata": {},
     "output_type": "execute_result"
    }
   ],
   "source": [
    "sel"
   ]
  },
  {
   "cell_type": "code",
   "execution_count": null,
   "metadata": {},
   "outputs": [],
   "source": []
  },
  {
   "cell_type": "code",
   "execution_count": 133,
   "metadata": {},
   "outputs": [
    {
     "data": {
      "text/plain": [
       "tensor([[0.3333, 0.3333, 0.3333, 0.3333, 0.3333, 0.3333],\n",
       "        [0.3333, 0.3333, 0.3333, 0.3333, 0.3333, 0.3333],\n",
       "        [0.3333, 0.3333, 0.3333, 0.3333, 0.3333, 0.3333],\n",
       "        [0.3333, 0.3333, 0.3333, 0.3333, 0.3333, 0.3333],\n",
       "        [0.3333, 0.3333, 0.3333, 0.3333, 0.3333, 0.3333],\n",
       "        [0.3333, 0.3333, 0.3333, 0.3333, 0.3333, 0.3333]])"
      ]
     },
     "execution_count": 133,
     "metadata": {},
     "output_type": "execute_result"
    }
   ],
   "source": [
    "p_bb"
   ]
  },
  {
   "cell_type": "code",
   "execution_count": null,
   "metadata": {},
   "outputs": [],
   "source": [
    "torch."
   ]
  },
  {
   "cell_type": "code",
   "execution_count": 143,
   "metadata": {},
   "outputs": [
    {
     "data": {
      "text/plain": [
       "tensor([3, 0, 4])"
      ]
     },
     "execution_count": 143,
     "metadata": {},
     "output_type": "execute_result"
    }
   ],
   "source": [
    "sel[0]"
   ]
  },
  {
   "cell_type": "code",
   "execution_count": 151,
   "metadata": {},
   "outputs": [
    {
     "data": {
      "text/plain": [
       "tensor([[3, 0, 4],\n",
       "        [2, 5, 1],\n",
       "        [1, 5, 2],\n",
       "        [2, 3, 5],\n",
       "        [1, 0, 4],\n",
       "        [3, 2, 5]])"
      ]
     },
     "execution_count": 151,
     "metadata": {},
     "output_type": "execute_result"
    }
   ],
   "source": [
    "sel.view(-1)"
   ]
  },
  {
   "cell_type": "code",
   "execution_count": 159,
   "metadata": {},
   "outputs": [
    {
     "data": {
      "text/plain": [
       "tensor([[3, 0, 4],\n",
       "        [2, 5, 1],\n",
       "        [1, 5, 2],\n",
       "        [2, 3, 5],\n",
       "        [1, 0, 4],\n",
       "        [3, 2, 5]])"
      ]
     },
     "execution_count": 159,
     "metadata": {},
     "output_type": "execute_result"
    }
   ],
   "source": [
    "sel"
   ]
  },
  {
   "cell_type": "code",
   "execution_count": 165,
   "metadata": {},
   "outputs": [
    {
     "data": {
      "text/plain": [
       "tensor([[3, 0, 4],\n",
       "        [2, 5, 1],\n",
       "        [1, 5, 2],\n",
       "        [2, 3, 5],\n",
       "        [1, 0, 4],\n",
       "        [3, 2, 5]])"
      ]
     },
     "execution_count": 165,
     "metadata": {},
     "output_type": "execute_result"
    }
   ],
   "source": [
    "sel"
   ]
  },
  {
   "cell_type": "code",
   "execution_count": 180,
   "metadata": {},
   "outputs": [],
   "source": [
    "def get_p_bb_knn(m_bb, n_neighbours=3):\n",
    "    cols = m_bb.argsort(1)[:, -n_neighbours:]\n",
    "    p_bb = torch.zeros_like(m_bb)\n",
    "    put = torch.FloatTensor([1 / n_neighbours])\n",
    "    rows = torch.arange(p_bb.shape[0]).unsqueeze(1).repeat([1, 3])\n",
    "    torch.index_put_(p_bb, (rows, sel), put)\n",
    "    return p_bb"
   ]
  },
  {
   "cell_type": "code",
   "execution_count": 215,
   "metadata": {},
   "outputs": [],
   "source": [
    "a = torch.arange(3, 0, -1).view(-1, 1).repeat((1, 3)).T\n",
    "ars = a.argsort(1)[:, -2:]"
   ]
  },
  {
   "cell_type": "code",
   "execution_count": 232,
   "metadata": {},
   "outputs": [],
   "source": [
    "a[0, :] += 10\n",
    "a[1, :] += 20\n",
    "a[2, :] += 30"
   ]
  },
  {
   "cell_type": "code",
   "execution_count": 233,
   "metadata": {},
   "outputs": [],
   "source": [
    "ars = torch.LongTensor([[1, 0],\n",
    "        [2, 0],\n",
    "        [1, 2]])"
   ]
  },
  {
   "cell_type": "code",
   "execution_count": 238,
   "metadata": {},
   "outputs": [],
   "source": [
    "a[torch.arange(3).unsqueeze(1), ars] = 0.1"
   ]
  },
  {
   "cell_type": "code",
   "execution_count": 239,
   "metadata": {},
   "outputs": [
    {
     "data": {
      "text/plain": [
       "tensor([[ 0,  0, 11],\n",
       "        [ 0, 22,  0],\n",
       "        [33,  0,  0]])"
      ]
     },
     "execution_count": 239,
     "metadata": {},
     "output_type": "execute_result"
    }
   ],
   "source": [
    "a"
   ]
  },
  {
   "cell_type": "code",
   "execution_count": 218,
   "metadata": {},
   "outputs": [
    {
     "data": {
      "text/plain": [
       "tensor([[3, 2, 1],\n",
       "        [3, 2, 1]])"
      ]
     },
     "execution_count": 218,
     "metadata": {},
     "output_type": "execute_result"
    }
   ],
   "source": [
    "a.index_select(0, ars[0])"
   ]
  },
  {
   "cell_type": "code",
   "execution_count": 219,
   "metadata": {},
   "outputs": [
    {
     "data": {
      "text/plain": [
       "tensor([[3, 2, 1],\n",
       "        [3, 2, 1],\n",
       "        [3, 2, 1]])"
      ]
     },
     "execution_count": 219,
     "metadata": {},
     "output_type": "execute_result"
    }
   ],
   "source": [
    "a"
   ]
  },
  {
   "cell_type": "code",
   "execution_count": null,
   "metadata": {},
   "outputs": [],
   "source": []
  },
  {
   "cell_type": "code",
   "execution_count": 183,
   "metadata": {},
   "outputs": [
    {
     "data": {
      "text/plain": [
       "tensor([[0.7408, 0.1587, 0.1005],\n",
       "        [0.1284, 0.1105, 0.7610],\n",
       "        [0.0063, 0.0525, 0.9413]])"
      ]
     },
     "execution_count": 183,
     "metadata": {},
     "output_type": "execute_result"
    }
   ],
   "source": [
    "p_bb = torch.softmax(m_bb, 1)\n",
    "# p_bb = torch.softmax(m_bb * 0.361, 1)\n",
    "p_ba = torch.softmax(m_ab.T, 1)\n",
    "torch.matmul(torch.matmul(p_ab, p_bb), p_ba)"
   ]
  },
  {
   "cell_type": "code",
   "execution_count": 66,
   "metadata": {},
   "outputs": [],
   "source": [
    "middle_alternative = torch.mm(\n",
    "    torch.inverse(Nm1 - Tbar_uu_unnorm), Nm1)"
   ]
  },
  {
   "cell_type": "code",
   "execution_count": 181,
   "metadata": {},
   "outputs": [
    {
     "data": {
      "text/plain": [
       "tensor([[0.5351, 0.2124, 0.2525],\n",
       "        [0.0903, 0.1592, 0.7505],\n",
       "        [0.0287, 0.1425, 0.8288]])"
      ]
     },
     "execution_count": 181,
     "metadata": {},
     "output_type": "execute_result"
    }
   ],
   "source": [
    "p_bb = get_p_bb_knn(m_bb)\n",
    "torch.matmul(torch.matmul(p_ab, p_bb), p_ba)"
   ]
  },
  {
   "cell_type": "code",
   "execution_count": 67,
   "metadata": {},
   "outputs": [
    {
     "data": {
      "text/plain": [
       "tensor([[0.6466, 0.1568, 0.1984],\n",
       "        [0.1129, 0.1315, 0.7560],\n",
       "        [0.0102, 0.0541, 0.9358]])"
      ]
     },
     "execution_count": 67,
     "metadata": {},
     "output_type": "execute_result"
    }
   ],
   "source": [
    "torch.matmul(torch.matmul(p_ab, middle_alternative), Tbar_ul)"
   ]
  },
  {
   "cell_type": "code",
   "execution_count": null,
   "metadata": {},
   "outputs": [],
   "source": []
  },
  {
   "cell_type": "code",
   "execution_count": 251,
   "metadata": {},
   "outputs": [],
   "source": [
    "A = Tbar_uu\n",
    "# Am1 = torch.inverse(A)\n",
    "eye = torch.eye(A.shape[0])\n",
    "# mid = (eye - Am1 + Tbar_uu_unnorm)"
   ]
  },
  {
   "cell_type": "code",
   "execution_count": 252,
   "metadata": {},
   "outputs": [
    {
     "data": {
      "text/plain": [
       "tensor([[1.0100, 0.0100, 0.0100,  ..., 0.0100, 0.0100, 0.0100],\n",
       "        [0.0100, 1.0100, 0.0100,  ..., 0.0100, 0.0100, 0.0100],\n",
       "        [0.0100, 0.0100, 1.0100,  ..., 0.0100, 0.0100, 0.0100],\n",
       "        ...,\n",
       "        [0.0100, 0.0100, 0.0100,  ..., 1.0100, 0.0100, 0.0100],\n",
       "        [0.0100, 0.0100, 0.0100,  ..., 0.0100, 1.0100, 0.0100],\n",
       "        [0.0100, 0.0100, 0.0100,  ..., 0.0100, 0.0100, 1.0100]])"
      ]
     },
     "execution_count": 252,
     "metadata": {},
     "output_type": "execute_result"
    }
   ],
   "source": [
    "torch.inverse(eye - A)"
   ]
  },
  {
   "cell_type": "code",
   "execution_count": 232,
   "metadata": {},
   "outputs": [],
   "source": [
    "s = eye\n",
    "for i in range(1, 200):\n",
    "    s += torch.matrix_power(A, i)"
   ]
  },
  {
   "cell_type": "code",
   "execution_count": 233,
   "metadata": {},
   "outputs": [
    {
     "data": {
      "text/plain": [
       "tensor([[1.0576, 0.0471, 0.0579,  ..., 0.0476, 0.0434, 0.0583],\n",
       "        [0.0439, 1.0640, 0.0430,  ..., 0.0576, 0.0502, 0.0460],\n",
       "        [0.0575, 0.0459, 1.0585,  ..., 0.0462, 0.0434, 0.0572],\n",
       "        ...,\n",
       "        [0.0468, 0.0608, 0.0457,  ..., 1.0571, 0.0483, 0.0493],\n",
       "        [0.0439, 0.0546, 0.0442,  ..., 0.0497, 1.0520, 0.0443],\n",
       "        [0.0576, 0.0488, 0.0569,  ..., 0.0496, 0.0433, 1.0595]])"
      ]
     },
     "execution_count": 233,
     "metadata": {},
     "output_type": "execute_result"
    }
   ],
   "source": [
    "s"
   ]
  },
  {
   "cell_type": "code",
   "execution_count": 210,
   "metadata": {},
   "outputs": [
    {
     "data": {
      "text/plain": [
       "tensor([[ -2361992.7500,   5702304.0000,   4196170.0000,  ...,\n",
       "            164258.5312,   2823759.7500, -11353244.0000],\n",
       "        [   595714.0000,  -1052188.5000,   -640998.1250,  ...,\n",
       "           -131028.6094,   -413537.5938,   2016110.8750],\n",
       "        [  1999871.1250,  -3800267.7500,  -1949139.6250,  ...,\n",
       "           -144253.4844,  -1517681.0000,   7819897.0000],\n",
       "        ...,\n",
       "        [    50914.8438,   -590212.3750,    -78638.5547,  ...,\n",
       "           -639337.3750,    256285.2656,    549963.0000],\n",
       "        [   -53048.3359,   -532025.6250,   -357648.4062,  ...,\n",
       "           -210970.2969,  -1146699.6250,    634807.3750],\n",
       "        [  -355720.4688,  -1992918.0000,  -2086678.0000,  ...,\n",
       "            879219.0625,  -2660131.5000,   3597067.7500]])"
      ]
     },
     "execution_count": 210,
     "metadata": {},
     "output_type": "execute_result"
    }
   ],
   "source": [
    "eye - torch.inverse(A)"
   ]
  },
  {
   "cell_type": "code",
   "execution_count": null,
   "metadata": {},
   "outputs": [],
   "source": []
  },
  {
   "cell_type": "code",
   "execution_count": 64,
   "metadata": {},
   "outputs": [],
   "source": [
    "X = b.T\n",
    "XtX = torch.matmul(X.T, X)\n",
    "# XtX -= XtX.max()\n",
    "# XtXnew = torch.matmul(X[:, 1:].T, X[:, 1:])\n",
    "eXtX = torch.exp(XtX)\n",
    "# eXtXnew = torch.exp(XtXnew)"
   ]
  },
  {
   "cell_type": "code",
   "execution_count": 68,
   "metadata": {},
   "outputs": [
    {
     "data": {
      "text/plain": [
       "tensor([[1.6587, 0.4909, 0.6180],\n",
       "        [0.5769, 1.6031, 0.5878],\n",
       "        [0.6491, 0.5253, 1.6504]])"
      ]
     },
     "execution_count": 68,
     "metadata": {},
     "output_type": "execute_result"
    }
   ],
   "source": [
    "inv = torch.inverse(Nm1 - Tbar_uu_unnorm)\n",
    "torch.mm(inv, Nm1)"
   ]
  },
  {
   "cell_type": "code",
   "execution_count": null,
   "metadata": {},
   "outputs": [],
   "source": []
  },
  {
   "cell_type": "code",
   "execution_count": 90,
   "metadata": {},
   "outputs": [
    {
     "data": {
      "text/plain": [
       "torch.return_types.eig(\n",
       "eigenvalues=tensor([[0.6413, 0.0000],\n",
       "        [0.0178, 0.0000],\n",
       "        [0.0963, 0.0000]]),\n",
       "eigenvectors=tensor([]))"
      ]
     },
     "execution_count": 90,
     "metadata": {},
     "output_type": "execute_result"
    }
   ],
   "source": [
    "torch.eig(Tbar_uu)"
   ]
  },
  {
   "cell_type": "code",
   "execution_count": 74,
   "metadata": {},
   "outputs": [
    {
     "data": {
      "text/plain": [
       "tensor([[-4.3288, -0.3152,  4.4031],\n",
       "        [-0.3152, -1.8001,  1.6052],\n",
       "        [ 4.4031,  1.6052, -6.1487]])"
      ]
     },
     "execution_count": 74,
     "metadata": {},
     "output_type": "execute_result"
    }
   ],
   "source": [
    "Am1 = torch.inverse(-Tbar_uu_unnorm)\n",
    "eye = torch.eye(Am1.shape[0])"
   ]
  },
  {
   "cell_type": "code",
   "execution_count": null,
   "metadata": {},
   "outputs": [],
   "source": []
  },
  {
   "cell_type": "code",
   "execution_count": null,
   "metadata": {},
   "outputs": [],
   "source": []
  },
  {
   "cell_type": "code",
   "execution_count": null,
   "metadata": {},
   "outputs": [],
   "source": [
    "Am1 - torch.matmul(torch.matmul(Am1, torch.inverse(eye + Am1)), Am1)"
   ]
  },
  {
   "cell_type": "code",
   "execution_count": null,
   "metadata": {},
   "outputs": [],
   "source": []
  },
  {
   "cell_type": "code",
   "execution_count": 29,
   "metadata": {},
   "outputs": [],
   "source": [
    "X = torch.randn([dim, U]) * 0.3"
   ]
  },
  {
   "cell_type": "code",
   "execution_count": 30,
   "metadata": {},
   "outputs": [],
   "source": [
    "xnew = torch.randn([dim, 1]) * 0.3\n",
    "Xnew = torch.cat([X, xnew], 1)\n",
    "XtXnew = torch.mm(Xnew.T, Xnew)"
   ]
  },
  {
   "cell_type": "code",
   "execution_count": null,
   "metadata": {},
   "outputs": [],
   "source": []
  },
  {
   "cell_type": "code",
   "execution_count": null,
   "metadata": {},
   "outputs": [],
   "source": []
  },
  {
   "cell_type": "code",
   "execution_count": 31,
   "metadata": {},
   "outputs": [],
   "source": [
    "nm1 = torch.FloatTensor([0.7])\n",
    "Nm1_new = torch.diag(torch.cat([torch.diagonal(Nm1), nm1], 0))\n",
    "XtX = torch.mm(X.T, X)"
   ]
  },
  {
   "cell_type": "code",
   "execution_count": 32,
   "metadata": {},
   "outputs": [
    {
     "data": {
      "text/plain": [
       "tensor([[ 0.2041, -0.0121, -0.0103],\n",
       "        [-0.0121,  0.1979,  0.0036],\n",
       "        [-0.0103,  0.0036,  0.2216]])"
      ]
     },
     "execution_count": 32,
     "metadata": {},
     "output_type": "execute_result"
    }
   ],
   "source": [
    "torch.inverse(Nm1 - XtX)"
   ]
  },
  {
   "cell_type": "code",
   "execution_count": null,
   "metadata": {},
   "outputs": [],
   "source": []
  },
  {
   "cell_type": "code",
   "execution_count": 21,
   "metadata": {},
   "outputs": [],
   "source": [
    "# X = torch.randn([128, 4096]) * 0.1\n",
    "X = torch.randn([5, 4])\n",
    "# X = F.normalize(X)\n",
    "XtX = torch.matmul(X.T, X)\n",
    "# XtX -= XtX.max()\n",
    "# XtXnew = torch.matmul(X[:, 1:].T, X[:, 1:])\n",
    "eXtX = torch.exp(XtX)\n",
    "# eXtXnew = torch.exp(XtXnew)"
   ]
  },
  {
   "cell_type": "code",
   "execution_count": 27,
   "metadata": {},
   "outputs": [],
   "source": [
    "norm = eXtX.sum(1)\n",
    "Nm1 = torch.diag(1 / norm)\n",
    "eye = torch.eye(eXtX.shape[0])"
   ]
  },
  {
   "cell_type": "code",
   "execution_count": 28,
   "metadata": {},
   "outputs": [
    {
     "data": {
      "text/plain": [
       "tensor([[0.9107, 0.0067, 0.0717, 0.0109],\n",
       "        [0.0420, 0.6720, 0.0537, 0.2323],\n",
       "        [0.0689, 0.0082, 0.8986, 0.0242],\n",
       "        [0.0401, 0.1365, 0.0930, 0.7304]])"
      ]
     },
     "execution_count": 28,
     "metadata": {},
     "output_type": "execute_result"
    }
   ],
   "source": [
    "sm = F.softmax(XtX, 1)\n",
    "sm"
   ]
  },
  {
   "cell_type": "code",
   "execution_count": 29,
   "metadata": {},
   "outputs": [
    {
     "data": {
      "text/plain": [
       "tensor([[0.9107, 0.0067, 0.0717, 0.0109],\n",
       "        [0.0420, 0.6720, 0.0537, 0.2323],\n",
       "        [0.0689, 0.0082, 0.8986, 0.0242],\n",
       "        [0.0401, 0.1365, 0.0930, 0.7304]])"
      ]
     },
     "execution_count": 29,
     "metadata": {},
     "output_type": "execute_result"
    }
   ],
   "source": [
    "torch.matmul(Nm1, eXtX)"
   ]
  },
  {
   "cell_type": "code",
   "execution_count": 30,
   "metadata": {},
   "outputs": [
    {
     "data": {
      "text/plain": [
       "tensor([[9364086.0000, 1491401.5000, 9740496.0000, 2538917.7500],\n",
       "        [9364082.0000, 1491406.3750, 9740500.0000, 2538922.2500],\n",
       "        [9364083.0000, 1491402.1250, 9740505.0000, 2538919.0000],\n",
       "        [9364084.0000, 1491404.2500, 9740502.0000, 2538924.2500]])"
      ]
     },
     "execution_count": 30,
     "metadata": {},
     "output_type": "execute_result"
    }
   ],
   "source": [
    "torch.inverse(eye - sm)"
   ]
  },
  {
   "cell_type": "code",
   "execution_count": 274,
   "metadata": {},
   "outputs": [],
   "source": [
    "# (I - Nm1.eXtX)-1\n",
    "# [Nm1 (N - eXtX)]-1\n",
    "# (N - eXtX)-1 N"
   ]
  },
  {
   "cell_type": "code",
   "execution_count": 300,
   "metadata": {},
   "outputs": [
    {
     "data": {
      "text/plain": [
       "tensor([[-9.7298e+08,  0.0000e+00,  0.0000e+00,  ...,  0.0000e+00,\n",
       "          0.0000e+00,  0.0000e+00],\n",
       "        [ 0.0000e+00, -4.1769e+08,  0.0000e+00,  ...,  0.0000e+00,\n",
       "          0.0000e+00,  0.0000e+00],\n",
       "        [ 0.0000e+00,  0.0000e+00, -1.0133e+08,  ...,  0.0000e+00,\n",
       "          0.0000e+00,  0.0000e+00],\n",
       "        ...,\n",
       "        [ 0.0000e+00,  0.0000e+00,  0.0000e+00,  ..., -7.0361e+00,\n",
       "          0.0000e+00,  0.0000e+00],\n",
       "        [ 0.0000e+00,  0.0000e+00,  0.0000e+00,  ...,  0.0000e+00,\n",
       "         -5.1879e+00,  0.0000e+00],\n",
       "        [ 0.0000e+00,  0.0000e+00,  0.0000e+00,  ...,  0.0000e+00,\n",
       "          0.0000e+00, -4.0554e+00]])"
      ]
     },
     "execution_count": 300,
     "metadata": {},
     "output_type": "execute_result"
    }
   ],
   "source": [
    "vals, vecs = torch.symeig(-eXtX, True)\n",
    "D = torch.diag(vals)\n",
    "D"
   ]
  },
  {
   "cell_type": "code",
   "execution_count": 290,
   "metadata": {},
   "outputs": [
    {
     "data": {
      "text/plain": [
       "tensor([[ 2.8135e-01,  1.5299e-04,  6.4665e-03,  ...,  6.9279e-04,\n",
       "          1.9238e-03,  1.7885e-02],\n",
       "        [ 1.5299e-04,  5.0180e-01,  2.9736e-04,  ...,  1.2506e-03,\n",
       "          2.4892e-06,  9.5986e-06],\n",
       "        [ 6.4665e-03,  2.9736e-04,  1.6346e-01,  ...,  2.9574e-02,\n",
       "          2.3229e-04,  5.7907e-04],\n",
       "        ...,\n",
       "        [ 6.9279e-04,  1.2506e-03,  2.9574e-02,  ...,  9.9618e-01,\n",
       "         -7.1638e-03, -2.8588e-02],\n",
       "        [ 1.9238e-03,  2.4892e-06,  2.3229e-04,  ..., -7.1638e-03,\n",
       "          3.4938e-02,  5.9022e-02],\n",
       "        [ 1.7885e-02,  9.5986e-06,  5.7907e-04,  ..., -2.8588e-02,\n",
       "          5.9022e-02,  1.3684e+00]])"
      ]
     },
     "execution_count": 290,
     "metadata": {},
     "output_type": "execute_result"
    }
   ],
   "source": [
    "torch.mm(u, torch.mm(torch.diag(1 / norm), u.T))"
   ]
  },
  {
   "cell_type": "code",
   "execution_count": 283,
   "metadata": {},
   "outputs": [
    {
     "data": {
      "text/plain": [
       "tensor([[ 3.1511e+02, -6.7083e-02, -2.8354e+00,  ..., -3.0378e-01,\n",
       "         -8.4356e-01, -7.8423e+00],\n",
       "        [-6.7083e-02,  8.6006e+03, -5.0743e+00,  ..., -2.1584e+01,\n",
       "         -2.5371e-02, -2.0796e-03],\n",
       "        [-2.8354e+00, -5.0743e+00,  1.8221e+03,  ..., -6.4391e+01,\n",
       "         -4.2899e-01, -5.4613e-01],\n",
       "        ...,\n",
       "        [-3.0378e-01, -2.1584e+01, -6.4391e+01,  ...,  3.6427e+03,\n",
       "         -7.0198e-01, -5.2066e-01],\n",
       "        [-8.4356e-01, -2.5371e-02, -4.2899e-01,  ..., -7.0198e-01,\n",
       "          8.3952e+02, -2.8874e+01],\n",
       "        [-7.8423e+00, -2.0796e-03, -5.4613e-01,  ..., -5.2066e-01,\n",
       "         -2.8874e+01,  2.6388e+03]])"
      ]
     },
     "execution_count": 283,
     "metadata": {},
     "output_type": "execute_result"
    }
   ],
   "source": [
    "torch.diag(norm) - eXtX"
   ]
  },
  {
   "cell_type": "code",
   "execution_count": 267,
   "metadata": {},
   "outputs": [
    {
     "data": {
      "text/plain": [
       "(tensor([0.0923, 0.2388, 0.9513]), tensor([[ 0.6054,  0.2232,  0.7640],\n",
       "         [ 0.5513, -0.8100, -0.2001],\n",
       "         [-0.5742, -0.5423,  0.6134]]))"
      ]
     },
     "execution_count": 267,
     "metadata": {},
     "output_type": "execute_result"
    }
   ],
   "source": [
    "x = torch.randn(3, 3) * .5\n",
    "x = torch.mm(x, x.T)\n",
    "x\n",
    "upd = x.clone()\n",
    "upd += torch.randn(3, 3) * .5\n",
    "upd[:2, :2] = 0\n",
    "upd += x\n",
    "vals, vecs = torch.symeig(upd, True)\n",
    "vals, vecs"
   ]
  },
  {
   "cell_type": "code",
   "execution_count": 268,
   "metadata": {},
   "outputs": [
    {
     "data": {
      "text/plain": [
       "tensor([[ 0.6010, -0.1578,  0.3848],\n",
       "        [-0.1578,  0.2228, -0.0411],\n",
       "        [ 0.7059, -0.8007,  0.4586]])"
      ]
     },
     "execution_count": 268,
     "metadata": {},
     "output_type": "execute_result"
    }
   ],
   "source": [
    "upd"
   ]
  },
  {
   "cell_type": "code",
   "execution_count": 269,
   "metadata": {},
   "outputs": [
    {
     "data": {
      "text/plain": [
       "tensor([[ 0.6010, -0.1578,  0.3630],\n",
       "        [-0.1578,  0.2228, -0.0642],\n",
       "        [ 0.3630, -0.0642,  0.3687]])"
      ]
     },
     "execution_count": 269,
     "metadata": {},
     "output_type": "execute_result"
    }
   ],
   "source": [
    "x"
   ]
  },
  {
   "cell_type": "code",
   "execution_count": 249,
   "metadata": {},
   "outputs": [
    {
     "data": {
      "text/plain": [
       "torch.return_types.symeig(\n",
       "eigenvalues=tensor([-1.0363,  0.0000,  2.8425]),\n",
       "eigenvectors=tensor([[ 0.7519,  0.4780,  0.4540],\n",
       "        [ 0.4092, -0.8784,  0.2471],\n",
       "        [-0.5169,  0.0000,  0.8561]]))"
      ]
     },
     "execution_count": 249,
     "metadata": {},
     "output_type": "execute_result"
    }
   ],
   "source": []
  },
  {
   "cell_type": "code",
   "execution_count": null,
   "metadata": {},
   "outputs": [],
   "source": []
  },
  {
   "cell_type": "code",
   "execution_count": 194,
   "metadata": {},
   "outputs": [
    {
     "data": {
      "text/plain": [
       "tensor([[2.9064e-10, 1.5353e-09, 3.0224e-09,  ..., 3.4884e-02, 1.3356e-10,\n",
       "         1.0679e-10],\n",
       "        [2.9064e-10, 1.5353e-09, 3.0224e-09,  ..., 3.4884e-02, 1.3356e-10,\n",
       "         1.0679e-10],\n",
       "        [2.9064e-10, 1.5353e-09, 3.0224e-09,  ..., 3.4884e-02, 1.3356e-10,\n",
       "         1.0679e-10],\n",
       "        ...,\n",
       "        [2.9064e-10, 1.5353e-09, 3.0224e-09,  ..., 3.4884e-02, 1.3356e-10,\n",
       "         1.0679e-10],\n",
       "        [2.9064e-10, 1.5353e-09, 3.0224e-09,  ..., 3.4884e-02, 1.3356e-10,\n",
       "         1.0679e-10],\n",
       "        [2.9064e-10, 1.5353e-09, 3.0224e-09,  ..., 3.4884e-02, 1.3356e-10,\n",
       "         1.0679e-10]])"
      ]
     },
     "execution_count": 194,
     "metadata": {},
     "output_type": "execute_result"
    }
   ],
   "source": [
    "torch.mm(torch.cholesky_inverse(u), torch.diag(norm))"
   ]
  },
  {
   "cell_type": "code",
   "execution_count": 195,
   "metadata": {},
   "outputs": [
    {
     "data": {
      "text/plain": [
       "tensor([[ 6.6648e+01,  3.6682e+00,  1.3535e+00,  ..., -2.2834e+07,\n",
       "          2.2598e-01,  1.6173e-01],\n",
       "        [ 6.9440e-01,  4.9179e+01,  2.3434e+00,  ..., -1.0266e+07,\n",
       "          7.6708e-02,  1.2459e-01],\n",
       "        [ 1.3015e-01,  1.1904e+00,  1.0524e+01,  ..., -7.9501e+05,\n",
       "          6.6554e-04,  4.6121e-02],\n",
       "        ...,\n",
       "        [-1.9025e-01, -4.5183e-01, -6.8883e-02,  ..., -8.7778e+07,\n",
       "         -5.0916e-02, -1.0791e-02],\n",
       "        [ 4.9178e-01,  8.8182e-01,  1.5061e-02,  ..., -1.3299e+07,\n",
       "          1.0252e+01,  2.1782e-01],\n",
       "        [ 4.4019e-01,  1.7913e+00,  1.3054e+00,  ..., -3.5251e+06,\n",
       "          2.7242e-01,  1.0420e+01]])"
      ]
     },
     "execution_count": 195,
     "metadata": {},
     "output_type": "execute_result"
    }
   ],
   "source": [
    "torch.mm(torch.inverse(torch.diag(norm) - eXtX), torch.diag(norm))"
   ]
  },
  {
   "cell_type": "code",
   "execution_count": 196,
   "metadata": {},
   "outputs": [
    {
     "data": {
      "text/plain": [
       "tensor([[ 6.6366e+01,  1.1420e+00, -8.0439e-01,  ..., -1.9514e+07,\n",
       "          1.9894e-01,  4.2459e-02],\n",
       "        [ 2.1640e-01,  4.1305e+01, -2.2012e+00,  ..., -5.8928e+06,\n",
       "          3.7290e-02, -1.1955e-01],\n",
       "        [-7.7326e-02, -1.1181e+00,  7.2707e+00,  ...,  5.9601e+05,\n",
       "         -1.3647e-02, -7.7625e-02],\n",
       "        ...,\n",
       "        [-1.6257e-01, -2.5920e-01,  5.2834e-02,  ..., -8.8705e+07,\n",
       "         -4.6960e-02, -3.7132e-03],\n",
       "        [ 4.3294e-01,  4.2712e-01, -3.0942e-01,  ..., -1.2264e+07,\n",
       "          1.0245e+01,  1.9772e-01],\n",
       "        [ 1.1565e-01, -1.7205e+00, -2.2010e+00,  ..., -1.2067e+06,\n",
       "          2.4753e-01,  1.0230e+01]])"
      ]
     },
     "execution_count": 196,
     "metadata": {},
     "output_type": "execute_result"
    }
   ],
   "source": [
    "torch.inverse(torch.eye(XtX.shape[0]) - sm)"
   ]
  },
  {
   "cell_type": "code",
   "execution_count": 197,
   "metadata": {},
   "outputs": [
    {
     "data": {
      "text/plain": [
       "tensor([[ 6.6891e+01,  6.5958e+00,  3.6262e+00,  ..., -2.4819e+07,\n",
       "          2.4556e-01,  3.0048e-01],\n",
       "        [ 1.2481e+00,  5.6533e+01,  7.6646e+00,  ..., -1.4582e+07,\n",
       "          1.1998e-01,  4.4421e-01],\n",
       "        [ 3.4845e-01,  3.8937e+00,  1.1802e+01,  ..., -2.4234e+06,\n",
       "          1.8712e-02,  1.8004e-01],\n",
       "        ...,\n",
       "        [-2.0666e-01, -6.4044e-01, -2.0948e-01,  ..., -8.7556e+07,\n",
       "         -5.2416e-02, -1.9330e-02],\n",
       "        [ 5.3444e-01,  1.3834e+00,  4.2232e-01,  ..., -1.3693e+07,\n",
       "          1.0256e+01,  2.4122e-01],\n",
       "        [ 8.1839e-01,  6.3723e+00,  5.0757e+00,  ..., -6.3342e+06,\n",
       "          3.0154e-01,  1.0645e+01]])"
      ]
     },
     "execution_count": 197,
     "metadata": {},
     "output_type": "execute_result"
    }
   ],
   "source": [
    "torch.inverse(torch.eye(XtX.shape[0]) - torch.mm(Nm1, eXtX))"
   ]
  },
  {
   "cell_type": "code",
   "execution_count": 25,
   "metadata": {},
   "outputs": [],
   "source": []
  },
  {
   "cell_type": "code",
   "execution_count": 22,
   "metadata": {},
   "outputs": [
    {
     "data": {
      "text/plain": [
       "torch.Size([50, 50])"
      ]
     },
     "execution_count": 22,
     "metadata": {},
     "output_type": "execute_result"
    }
   ],
   "source": []
  },
  {
   "cell_type": "code",
   "execution_count": null,
   "metadata": {},
   "outputs": [],
   "source": []
  },
  {
   "cell_type": "code",
   "execution_count": 24,
   "metadata": {},
   "outputs": [
    {
     "name": "stdout",
     "output_type": "stream",
     "text": [
      "579 ms ± 7.23 ms per loop (mean ± std. dev. of 7 runs, 1 loop each)\n"
     ]
    }
   ],
   "source": [
    "def torch_inv():\n",
    "    return torch.inverse(eXtX)\n",
    "\n",
    "%timeit torch_inv()"
   ]
  },
  {
   "cell_type": "code",
   "execution_count": 31,
   "metadata": {},
   "outputs": [
    {
     "name": "stdout",
     "output_type": "stream",
     "text": [
      "470 ms ± 20.3 ms per loop (mean ± std. dev. of 7 runs, 1 loop each)\n"
     ]
    }
   ],
   "source": [
    "def torch_inv2():\n",
    "    u = torch.cholesky(eXtX)\n",
    "    return torch.cholesky_inverse(u)\n",
    "%timeit torch_inv2()"
   ]
  },
  {
   "cell_type": "code",
   "execution_count": 34,
   "metadata": {},
   "outputs": [
    {
     "name": "stdout",
     "output_type": "stream",
     "text": [
      "180 ms ± 7.18 ms per loop (mean ± std. dev. of 7 runs, 1 loop each)\n"
     ]
    }
   ],
   "source": [
    "%timeit u = torch.cholesky(eXtX)"
   ]
  },
  {
   "cell_type": "code",
   "execution_count": 36,
   "metadata": {},
   "outputs": [
    {
     "data": {
      "text/plain": [
       "tensor([[0.0413, 0.0183, 0.0127,  ..., 0.0157, 0.0157, 0.0126],\n",
       "        [0.0183, 0.0516, 0.0125,  ..., 0.0111, 0.0166, 0.0144],\n",
       "        [0.0127, 0.0125, 0.0454,  ..., 0.0168, 0.0142, 0.0184],\n",
       "        ...,\n",
       "        [0.0157, 0.0111, 0.0168,  ..., 0.0465, 0.0145, 0.0170],\n",
       "        [0.0157, 0.0166, 0.0142,  ..., 0.0145, 0.0436, 0.0137],\n",
       "        [0.0126, 0.0144, 0.0184,  ..., 0.0170, 0.0137, 0.0439]])"
      ]
     },
     "execution_count": 36,
     "metadata": {},
     "output_type": "execute_result"
    }
   ],
   "source": [
    "torch.mm(u, u.T)"
   ]
  },
  {
   "cell_type": "code",
   "execution_count": 26,
   "metadata": {},
   "outputs": [
    {
     "ename": "AttributeError",
     "evalue": "module 'torch' has no attribute 'potrf'",
     "output_type": "error",
     "traceback": [
      "\u001b[0;31m---------------------------------------------------------------------------\u001b[0m",
      "\u001b[0;31mAttributeError\u001b[0m                            Traceback (most recent call last)",
      "\u001b[0;32m<ipython-input-26-494caa21bdfd>\u001b[0m in \u001b[0;36m<module>\u001b[0;34m\u001b[0m\n\u001b[0;32m----> 1\u001b[0;31m \u001b[0mtorch\u001b[0m\u001b[0;34m.\u001b[0m\u001b[0mpotrf\u001b[0m\u001b[0;34m(\u001b[0m\u001b[0meXtX\u001b[0m\u001b[0;34m)\u001b[0m\u001b[0;34m\u001b[0m\u001b[0;34m\u001b[0m\u001b[0m\n\u001b[0m",
      "\u001b[0;31mAttributeError\u001b[0m: module 'torch' has no attribute 'potrf'"
     ]
    }
   ],
   "source": [
    "\n",
    "torch.potrf(eXtX)"
   ]
  },
  {
   "cell_type": "code",
   "execution_count": 25,
   "metadata": {
    "scrolled": true
   },
   "outputs": [
    {
     "name": "stdout",
     "output_type": "stream",
     "text": [
      "2.94 s ± 90.6 ms per loop (mean ± std. dev. of 7 runs, 1 loop each)\n"
     ]
    }
   ],
   "source": [
    "import scipy.linalg\n",
    "\n",
    "M = eXtX.numpy()\n",
    "def scipy_inv(M):\n",
    "    return np.linalg.inv(M)\n",
    "    zz , _ = scipy.linalg.lapack.dpotrf(M, False, False)\n",
    "    inv_M , info = scipy.linalg.lapack.dpotri(zz)\n",
    "    return inv_M\n",
    "%timeit scipy_inv(M)"
   ]
  },
  {
   "cell_type": "code",
   "execution_count": 21,
   "metadata": {},
   "outputs": [
    {
     "data": {
      "text/plain": [
       "array([[ 5.16016609e+03, -7.17094981e+01,  3.67227918e+01, ...,\n",
       "        -1.39174757e+01,  9.63197227e+00,  3.24160249e+01],\n",
       "       [ 1.82854533e-02,  2.65514458e+03, -9.94787787e+00, ...,\n",
       "        -3.58465863e+01,  1.19178624e+01,  2.36879707e+01],\n",
       "       [ 1.26858354e-02,  1.24610066e-02,  3.53307662e+03, ...,\n",
       "         8.30143124e+01,  5.84684897e+01, -1.16068985e+02],\n",
       "       ...,\n",
       "       [ 1.57354474e-02,  1.11050010e-02,  1.68003440e-02, ...,\n",
       "         3.70626661e+03,  1.43761181e+01,  2.37045821e+01],\n",
       "       [ 1.57182813e-02,  1.65951848e-02,  1.41780972e-02, ...,\n",
       "         1.44798160e-02,  4.38297233e+03,  2.60644095e+01],\n",
       "       [ 1.25547051e-02,  1.44284368e-02,  1.84476972e-02, ...,\n",
       "         1.70407891e-02,  1.36840343e-02,  4.21725737e+03]])"
      ]
     },
     "execution_count": 21,
     "metadata": {},
     "output_type": "execute_result"
    }
   ],
   "source": [
    "inv_M"
   ]
  },
  {
   "cell_type": "code",
   "execution_count": 22,
   "metadata": {},
   "outputs": [
    {
     "data": {
      "text/plain": [
       "array([[ 2.0313248e-01,  0.0000000e+00,  0.0000000e+00, ...,\n",
       "         0.0000000e+00,  0.0000000e+00,  0.0000000e+00],\n",
       "       [ 9.0017378e-02,  2.0856513e-01,  0.0000000e+00, ...,\n",
       "         0.0000000e+00,  0.0000000e+00,  0.0000000e+00],\n",
       "       [ 6.2451042e-02,  3.2792285e-02,  2.0104480e-01, ...,\n",
       "         0.0000000e+00,  0.0000000e+00,  0.0000000e+00],\n",
       "       ...,\n",
       "       [ 7.7463962e-02,  1.9811068e-02,  5.6270979e-02, ...,\n",
       "         1.6426392e-02,  0.0000000e+00,  0.0000000e+00],\n",
       "       [ 7.7379458e-02,  4.6171136e-02,  3.8954563e-02, ...,\n",
       "        -5.3331343e-05,  1.5105100e-02,  0.0000000e+00],\n",
       "       [ 6.1805502e-02,  4.2504072e-02,  6.5627530e-02, ...,\n",
       "        -9.2000715e-05, -9.3355819e-05,  1.5398731e-02]], dtype=float32)"
      ]
     },
     "execution_count": 22,
     "metadata": {},
     "output_type": "execute_result"
    }
   ],
   "source": [
    "import numpy as np\n",
    "\n",
    "np.linalg.cholesky(M)"
   ]
  },
  {
   "cell_type": "code",
   "execution_count": 29,
   "metadata": {},
   "outputs": [
    {
     "data": {
      "text/plain": [
       "array([[ 3.51934044e+22,  5.62912448e+22,  3.32529420e+22, ...,\n",
       "        -1.55015399e+05,  1.90540316e+05, -6.83050750e+05],\n",
       "       [-7.57587026e-04,  9.00368835e+22,  5.31875047e+22, ...,\n",
       "        -2.48000540e+05,  3.04861960e+05, -1.09240252e+06],\n",
       "       [ 1.96077349e-03,  6.69133267e-04,  3.14194748e+22, ...,\n",
       "        -1.46437006e+05,  1.79968692e+05, -6.45486137e+05],\n",
       "       ...,\n",
       "       [-1.49789630e-04, -3.62291816e-03,  6.04315009e-03, ...,\n",
       "         7.83422954e+02, -3.26315742e+01, -1.37612101e+02],\n",
       "       [-1.92725344e-03, -3.70545220e-03, -4.79730405e-03, ...,\n",
       "         1.21067581e-03,  8.82375437e+02,  2.54072718e+01],\n",
       "       [-1.81561953e-03, -4.84478893e-03, -1.69411406e-03, ...,\n",
       "         4.36846633e-03, -7.56252208e-04,  1.13137123e+03]])"
      ]
     },
     "execution_count": 29,
     "metadata": {},
     "output_type": "execute_result"
    }
   ],
   "source": [
    "inv_M"
   ]
  },
  {
   "cell_type": "code",
   "execution_count": 31,
   "metadata": {},
   "outputs": [
    {
     "data": {
      "text/plain": [
       "array([[ 1.74134039e-01, -4.35059699e-03,  1.12601390e-02, ...,\n",
       "        -1.49789630e-04, -1.92725344e-03, -1.81561953e-03],\n",
       "       [-7.57587026e-04,  1.72435779e-01,  4.16457418e-03, ...,\n",
       "        -3.62291816e-03, -3.70545220e-03, -4.84478893e-03],\n",
       "       [ 1.96077349e-03,  6.69133267e-04,  1.72395117e-01, ...,\n",
       "         6.04315009e-03, -4.79730405e-03, -1.69411406e-03],\n",
       "       ...,\n",
       "       [-1.49789630e-04, -3.62291816e-03,  6.04315009e-03, ...,\n",
       "         3.61386612e-02,  1.21067581e-03,  4.36846633e-03],\n",
       "       [-1.92725344e-03, -3.70545220e-03, -4.79730405e-03, ...,\n",
       "         1.21067581e-03,  3.36754769e-02, -7.56252208e-04],\n",
       "       [-1.81561953e-03, -4.84478893e-03, -1.69411406e-03, ...,\n",
       "         4.36846633e-03, -7.56252208e-04,  2.97301728e-02]])"
      ]
     },
     "execution_count": 31,
     "metadata": {},
     "output_type": "execute_result"
    }
   ],
   "source": [
    "zz"
   ]
  },
  {
   "cell_type": "code",
   "execution_count": 258,
   "metadata": {},
   "outputs": [
    {
     "name": "stdout",
     "output_type": "stream",
     "text": [
      "705 ms ± 76 ms per loop (mean ± std. dev. of 7 runs, 1 loop each)\n"
     ]
    }
   ],
   "source": [
    "X = torch.randn([4096, 128]) * 0.05\n",
    "def old(X):\n",
    "    return torch.inverse(torch.exp(torch.matmul(X, X.T)))\n",
    "\n",
    "%timeit old(X)"
   ]
  },
  {
   "cell_type": "code",
   "execution_count": 259,
   "metadata": {},
   "outputs": [
    {
     "data": {
      "text/plain": [
       "torch.Size([4096, 4096])"
      ]
     },
     "execution_count": 259,
     "metadata": {},
     "output_type": "execute_result"
    }
   ],
   "source": [
    "old(X).shape"
   ]
  },
  {
   "cell_type": "code",
   "execution_count": null,
   "metadata": {},
   "outputs": [],
   "source": [
    "def new(X):\n",
    "    \n",
    "    symeig = torch.symeig(torch.exp(torch.matmul(X, X.T)), True)"
   ]
  },
  {
   "cell_type": "code",
   "execution_count": null,
   "metadata": {},
   "outputs": [],
   "source": []
  },
  {
   "cell_type": "code",
   "execution_count": 260,
   "metadata": {},
   "outputs": [
    {
     "data": {
      "text/plain": [
       "torch.return_types.symeig(\n",
       "eigenvalues=tensor([8.9242e-03, 9.1426e-03, 9.1826e-03,  ..., 1.4072e+01, 1.4283e+01,\n",
       "        4.0980e+03]),\n",
       "eigenvectors=tensor([[-1.2142e-02,  1.0688e-02, -4.1807e-03,  ...,  1.0539e-02,\n",
       "          1.1228e-02,  1.5622e-02],\n",
       "        [ 5.4051e-03, -1.8964e-03,  3.7369e-03,  ...,  1.0931e-02,\n",
       "         -2.3277e-02,  1.5624e-02],\n",
       "        [ 3.8326e-03, -6.3312e-03, -7.8157e-03,  ..., -2.2687e-02,\n",
       "         -2.0749e-02,  1.5607e-02],\n",
       "        ...,\n",
       "        [ 3.8040e-03, -2.9918e-03, -8.4959e-03,  ...,  3.2905e-04,\n",
       "          1.9703e-02,  1.5632e-02],\n",
       "        [-2.8663e-03, -1.0480e-03,  7.3053e-03,  ..., -6.7421e-03,\n",
       "         -2.5815e-02,  1.5624e-02],\n",
       "        [ 1.3776e-02,  7.8041e-03, -7.0944e-05,  ..., -1.7609e-02,\n",
       "         -1.6254e-02,  1.5626e-02]]))"
      ]
     },
     "execution_count": 260,
     "metadata": {},
     "output_type": "execute_result"
    }
   ],
   "source": [
    "torch.symeig(torch.exp(torch.matmul(X, X.T)), True)"
   ]
  },
  {
   "cell_type": "code",
   "execution_count": null,
   "metadata": {},
   "outputs": [],
   "source": []
  },
  {
   "cell_type": "code",
   "execution_count": 261,
   "metadata": {},
   "outputs": [
    {
     "name": "stdout",
     "output_type": "stream",
     "text": [
      "10.9 s ± 314 ms per loop (mean ± std. dev. of 7 runs, 1 loop each)\n"
     ]
    }
   ],
   "source": [
    "%timeit torch.symeig(torch.exp(torch.matmul(X, X.T)), True)"
   ]
  },
  {
   "cell_type": "code",
   "execution_count": null,
   "metadata": {},
   "outputs": [],
   "source": []
  },
  {
   "cell_type": "code",
   "execution_count": null,
   "metadata": {},
   "outputs": [],
   "source": [
    "torch.inverse()"
   ]
  },
  {
   "cell_type": "code",
   "execution_count": null,
   "metadata": {},
   "outputs": [],
   "source": [
    "c = 1.0 / (1.0 + torch.mm(u.T, torch.mm(old_inv, v.T)))\n",
    "new_inv = "
   ]
  },
  {
   "cell_type": "code",
   "execution_count": null,
   "metadata": {},
   "outputs": [],
   "source": []
  },
  {
   "cell_type": "code",
   "execution_count": 245,
   "metadata": {},
   "outputs": [
    {
     "data": {
      "text/plain": [
       "torch.Size([128])"
      ]
     },
     "execution_count": 245,
     "metadata": {},
     "output_type": "execute_result"
    }
   ],
   "source": [
    "u.shape"
   ]
  },
  {
   "cell_type": "code",
   "execution_count": 209,
   "metadata": {},
   "outputs": [
    {
     "data": {
      "text/plain": [
       "tensor([[1.0224, 0.9655, 1.0029,  ..., 0.9941, 1.0127, 0.9819],\n",
       "        [0.9655, 1.0879, 1.0113,  ..., 1.0133, 0.9849, 1.0195],\n",
       "        [1.0029, 1.0113, 1.0152,  ..., 0.9897, 1.0153, 0.9953],\n",
       "        ...,\n",
       "        [0.9941, 1.0133, 0.9897,  ..., 1.0278, 0.9684, 0.9949],\n",
       "        [1.0127, 0.9849, 1.0153,  ..., 0.9684, 1.0607, 1.0039],\n",
       "        [0.9819, 1.0195, 0.9953,  ..., 0.9949, 1.0039, 1.0234]])"
      ]
     },
     "execution_count": 209,
     "metadata": {},
     "output_type": "execute_result"
    }
   ],
   "source": [
    "eXtX"
   ]
  },
  {
   "cell_type": "code",
   "execution_count": 210,
   "metadata": {},
   "outputs": [],
   "source": [
    "vals, vecs = torch.symeig(eXtX, True)"
   ]
  },
  {
   "cell_type": "code",
   "execution_count": 213,
   "metadata": {},
   "outputs": [],
   "source": [
    "XtX0 = torch.matmul(X[:, :-1].T, X[:, :-1])\n",
    "eXtX0 = torch.exp(XtX0)\n",
    "vals0, vecs0 = torch.symeig(eXtX0, True)"
   ]
  },
  {
   "cell_type": "code",
   "execution_count": null,
   "metadata": {},
   "outputs": [],
   "source": []
  },
  {
   "cell_type": "code",
   "execution_count": null,
   "metadata": {},
   "outputs": [],
   "source": []
  },
  {
   "cell_type": "code",
   "execution_count": 193,
   "metadata": {},
   "outputs": [
    {
     "data": {
      "text/plain": [
       "tensor(2566537.)"
      ]
     },
     "execution_count": 193,
     "metadata": {},
     "output_type": "execute_result"
    }
   ],
   "source": [
    "goal = torch.inverse(torch.mm(torch.mm(vecs, torch.diag(vals)), vecs.T))\n",
    "goal[-1, -1]"
   ]
  },
  {
   "cell_type": "code",
   "execution_count": 194,
   "metadata": {},
   "outputs": [],
   "source": [
    "known = torch.inverse(torch.mm(torch.mm(vecs0, torch.diag(vals0)), vecs0.T))"
   ]
  },
  {
   "cell_type": "code",
   "execution_count": null,
   "metadata": {},
   "outputs": [],
   "source": [
    "v"
   ]
  },
  {
   "cell_type": "code",
   "execution_count": null,
   "metadata": {},
   "outputs": [],
   "source": []
  },
  {
   "cell_type": "code",
   "execution_count": null,
   "metadata": {},
   "outputs": [],
   "source": [
    "# %timeit torch.inverse(eXtX)"
   ]
  },
  {
   "cell_type": "code",
   "execution_count": 116,
   "metadata": {},
   "outputs": [
    {
     "data": {
      "text/plain": [
       "tensor(True)"
      ]
     },
     "execution_count": 116,
     "metadata": {},
     "output_type": "execute_result"
    }
   ],
   "source": [
    "torch.all(XtX == XtX.T)"
   ]
  },
  {
   "cell_type": "code",
   "execution_count": 132,
   "metadata": {},
   "outputs": [
    {
     "data": {
      "text/plain": [
       "tensor([[1.0348, 0.9936, 0.9993,  ..., 1.0011, 0.9995, 0.9995],\n",
       "        [0.9936, 1.0373, 0.9996,  ..., 1.0034, 0.9957, 1.0048],\n",
       "        [0.9993, 0.9996, 1.0306,  ..., 1.0016, 0.9989, 1.0001],\n",
       "        ...,\n",
       "        [1.0011, 1.0034, 1.0016,  ..., 1.0285, 0.9987, 0.9958],\n",
       "        [0.9995, 0.9957, 0.9989,  ..., 0.9987, 1.0331, 0.9967],\n",
       "        [0.9995, 1.0048, 1.0001,  ..., 0.9958, 0.9967, 1.0325]])"
      ]
     },
     "execution_count": 132,
     "metadata": {},
     "output_type": "execute_result"
    }
   ],
   "source": [
    "torch.mm(torch.mm(vecs, torch.diag(vals)), vecs.T)"
   ]
  },
  {
   "cell_type": "code",
   "execution_count": 137,
   "metadata": {},
   "outputs": [
    {
     "data": {
      "text/plain": [
       "tensor([[1.0348, 0.9936, 0.9993,  ..., 1.0011, 0.9995, 0.9995],\n",
       "        [0.9936, 1.0373, 0.9996,  ..., 1.0034, 0.9957, 1.0048],\n",
       "        [0.9993, 0.9996, 1.0306,  ..., 1.0016, 0.9989, 1.0001],\n",
       "        ...,\n",
       "        [1.0011, 1.0034, 1.0016,  ..., 1.0285, 0.9987, 0.9958],\n",
       "        [0.9995, 0.9957, 0.9989,  ..., 0.9987, 1.0331, 0.9967],\n",
       "        [0.9995, 1.0048, 1.0001,  ..., 0.9958, 0.9967, 1.0325]])"
      ]
     },
     "execution_count": 137,
     "metadata": {},
     "output_type": "execute_result"
    }
   ],
   "source": [
    "torch.mm(torch.mm(vecs, torch.diag(vals)), vecs.T)"
   ]
  },
  {
   "cell_type": "code",
   "execution_count": 50,
   "metadata": {},
   "outputs": [
    {
     "data": {
      "text/plain": [
       "tensor([[0.5380, 0.2225, 0.2395],\n",
       "        [0.2297, 0.4388, 0.3315],\n",
       "        [0.2511, 0.3366, 0.4123]])"
      ]
     },
     "execution_count": 50,
     "metadata": {},
     "output_type": "execute_result"
    }
   ],
   "source": [
    "f = torch.exp(XtX - XtX.min())\n",
    "f / f.sum(1, keepdim=True)"
   ]
  },
  {
   "cell_type": "code",
   "execution_count": 51,
   "metadata": {},
   "outputs": [
    {
     "data": {
      "text/plain": [
       "tensor([[0.8831, 0.0000, 0.0738],\n",
       "        [0.0000, 0.6472, 0.3668],\n",
       "        [0.0738, 0.3668, 0.5696]])"
      ]
     },
     "execution_count": 51,
     "metadata": {},
     "output_type": "execute_result"
    }
   ],
   "source": [
    "XtX - XtX.min()"
   ]
  },
  {
   "cell_type": "code",
   "execution_count": 49,
   "metadata": {},
   "outputs": [
    {
     "data": {
      "text/plain": [
       "tensor([[0.5380, 0.2225, 0.2395],\n",
       "        [0.2297, 0.4388, 0.3315],\n",
       "        [0.2511, 0.3366, 0.4123]])"
      ]
     },
     "execution_count": 49,
     "metadata": {},
     "output_type": "execute_result"
    }
   ],
   "source": [
    "torch.softmax(XtX, 1)"
   ]
  },
  {
   "cell_type": "code",
   "execution_count": 46,
   "metadata": {},
   "outputs": [
    {
     "data": {
      "text/plain": [
       "tensor([[ 0.7726, -0.1278, -0.3662],\n",
       "        [-0.1278,  1.8606, -1.4413],\n",
       "        [-0.3662, -1.4413,  2.1615]])"
      ]
     },
     "execution_count": 46,
     "metadata": {},
     "output_type": "execute_result"
    }
   ],
   "source": [
    "torch.inverse(torch.exp(XtX))"
   ]
  },
  {
   "cell_type": "code",
   "execution_count": 37,
   "metadata": {},
   "outputs": [
    {
     "data": {
      "text/plain": [
       "tensor([[4.3831, 3.1722, 2.7911],\n",
       "        [3.1722, 5.3071, 1.2520],\n",
       "        [2.7911, 1.2520, 5.6468]])"
      ]
     },
     "execution_count": 37,
     "metadata": {},
     "output_type": "execute_result"
    }
   ],
   "source": [
    "(torch.inverse(XtX))"
   ]
  },
  {
   "cell_type": "code",
   "execution_count": 152,
   "metadata": {},
   "outputs": [
    {
     "data": {
      "text/plain": [
       "tensor([[-0.1303]])"
      ]
     },
     "execution_count": 152,
     "metadata": {},
     "output_type": "execute_result"
    }
   ],
   "source": [
    "def add_new_col_to_inverse_new(X, old_inverse, new_col, N=None, n=None):\n",
    "    B = old_inverse\n",
    "    v = new_col\n",
    "    # Decomposition of diagonal matrix N\n",
    "    Nlong = torch.cat([torch.sqrt(N), torch.zeros([X.shape[0] - N.shape[0], N.shape[1]])], 0)\n",
    "    X = Nlong - X\n",
    "    \n",
    "    \n",
    "    # d = 1. / (torch.matmul(v.T, v) - torch.matmul(u1.T, u2))\n",
    "    middle = torch.matmul(torch.matmul(Nlong + X, (B)), (Nlong + X).T)\n",
    "#     print(middle.shape, N.shape, B.shape)\n",
    "    v = v + n\n",
    "    other = torch.matmul(torch.matmul(v.T, middle), v)\n",
    "    d = 1. / (torch.matmul(v.T, v) - other)\n",
    "    return d\n",
    "    u3 = d * u2\n",
    "    F11inv = B + d * u2 * u2.T\n",
    "    Bnew = torch.cat([\n",
    "        torch.cat([F11inv, -u3], 1),\n",
    "        torch.cat([-u3.T, d], 1)\n",
    "    ], 0)\n",
    "    return Bnew\n",
    "\n",
    "add_new_col_to_inverse_new(X, torch.inverse(Nm1 - XtX), xnew, N=Nm1, n=nm1)"
   ]
  },
  {
   "cell_type": "code",
   "execution_count": 127,
   "metadata": {},
   "outputs": [
    {
     "data": {
      "text/plain": [
       "tensor([0.7000])"
      ]
     },
     "execution_count": 127,
     "metadata": {},
     "output_type": "execute_result"
    }
   ],
   "source": [
    "nm1"
   ]
  },
  {
   "cell_type": "code",
   "execution_count": 163,
   "metadata": {},
   "outputs": [
    {
     "name": "stdout",
     "output_type": "stream",
     "text": [
      "tensor([[5.2744]])\n"
     ]
    }
   ],
   "source": [
    "def add_new_col_to_inverse_new(X, old_inverse, new_col, N=None, n=None):\n",
    "    B = old_inverse\n",
    "    v = new_col\n",
    "    # Decomposition of diagonal matrix N\n",
    "    Nlong = torch.cat([torch.sqrt(N), torch.zeros([X.shape[0] - N.shape[0], N.shape[1]])], 0)\n",
    "    X = (Nlong - X)\n",
    "    v = n - v\n",
    "    u1 = torch.matmul(X.T, v)\n",
    "    u2 = torch.matmul(B, u1)\n",
    "    d = 1. / (torch.matmul(v.T, v) - torch.matmul(u1.T, u2))\n",
    "    return n - d\n",
    "\n",
    "print(add_new_col_to_inverse_new(X, torch.inverse(Nm1 - XtX), xnew, N=Nm1, n=nm1))"
   ]
  },
  {
   "cell_type": "code",
   "execution_count": 189,
   "metadata": {},
   "outputs": [
    {
     "name": "stdout",
     "output_type": "stream",
     "text": [
      "15.2 µs ± 206 ns per loop (mean ± std. dev. of 7 runs, 100000 loops each)\n"
     ]
    }
   ],
   "source": [
    "%timeit torch.inverse(Nm1 + torch.matmul(X.T, X))"
   ]
  },
  {
   "cell_type": "code",
   "execution_count": 188,
   "metadata": {},
   "outputs": [
    {
     "name": "stdout",
     "output_type": "stream",
     "text": [
      "64.3 µs ± 1.47 µs per loop (mean ± std. dev. of 7 runs, 10000 loops each)\n"
     ]
    }
   ],
   "source": [
    "import numpy as np\n",
    "def woodbury(A, U, V, k):\n",
    "    A_inv = torch.diag(1. / torch.diag(A))  # Fast matrix inversion of a diagonal.\n",
    "    B_inv = torch.inverse(torch.eye(k) + V @ A_inv @ U)\n",
    "    return A_inv - (A_inv @ U @ B_inv @ V @ A_inv)\n",
    "\n",
    "%timeit woodbury(Nm1, X.T, X, X.shape[0])"
   ]
  },
  {
   "cell_type": "code",
   "execution_count": null,
   "metadata": {},
   "outputs": [],
   "source": []
  },
  {
   "cell_type": "code",
   "execution_count": 182,
   "metadata": {},
   "outputs": [
    {
     "data": {
      "text/plain": [
       "tensor([[ 0.1611, -0.0021, -0.0120],\n",
       "        [-0.0021,  0.1594, -0.0018],\n",
       "        [-0.0120, -0.0018,  0.1530]])"
      ]
     },
     "execution_count": 182,
     "metadata": {},
     "output_type": "execute_result"
    }
   ],
   "source": [
    "# Can possible use Woodbury identity..\n",
    "Am1 = torch.inverse(Nm1)\n",
    "u = X.T\n",
    "c = torch.eye(X.shape[0])\n",
    "v = X\n",
    "\n",
    "left = torch.mm(Am1, u)\n",
    "middle = (c + torch.mm(torch.mm(v, Am1), u))\n",
    "right = torch.mm(v, Am1)\n",
    "\n",
    "Am1 - torch.mm(torch.mm(left, middle), right)"
   ]
  },
  {
   "cell_type": "code",
   "execution_count": null,
   "metadata": {},
   "outputs": [],
   "source": []
  },
  {
   "cell_type": "code",
   "execution_count": 173,
   "metadata": {},
   "outputs": [
    {
     "data": {
      "text/plain": [
       "tensor([[ 0.0475, -0.0217, -0.1195],\n",
       "        [-0.0214,  0.0674, -0.0202],\n",
       "        [-0.1180, -0.0203, -0.0151]])"
      ]
     },
     "execution_count": 173,
     "metadata": {},
     "output_type": "execute_result"
    }
   ],
   "source": [
    "o = torch.mm(N1, X.T)\n",
    "p = torch.eye(X.shape[0]) + torch.matmul(X, X.T)\n",
    "o = torch.mm(o, p)\n",
    "o = torch.mm(o, X)\n",
    "N1 - o"
   ]
  },
  {
   "cell_type": "code",
   "execution_count": 167,
   "metadata": {},
   "outputs": [
    {
     "data": {
      "text/plain": [
       "tensor([[0.1920, 0.0023, 0.0131, 0.0324],\n",
       "        [0.0023, 0.1869, 0.0021, 0.0082],\n",
       "        [0.0131, 0.0021, 0.1960, 0.0387],\n",
       "        [0.0324, 0.0082, 0.0387, 1.5992]])"
      ]
     },
     "execution_count": 167,
     "metadata": {},
     "output_type": "execute_result"
    }
   ],
   "source": [
    "torch.inverse(Nm1_new - XtXnew)"
   ]
  },
  {
   "cell_type": "code",
   "execution_count": null,
   "metadata": {},
   "outputs": [],
   "source": []
  },
  {
   "cell_type": "code",
   "execution_count": null,
   "metadata": {},
   "outputs": [],
   "source": []
  },
  {
   "cell_type": "code",
   "execution_count": 394,
   "metadata": {},
   "outputs": [],
   "source": [
    "import torch\n",
    "import time\n",
    "import torch.nn.functional as F\n",
    "\n",
    "\n",
    "n, p = 128, 4000\n",
    "col = 0\n",
    "\n",
    "a = torch.randn(100, 16) * 0.5\n",
    "b = torch.randn(500, 16) * 0.5\n",
    "\n",
    "match_ab = torch.matmul(a, torch.t(b))\n",
    "match_ba = torch.t(match_ab)\n",
    "match_bb = torch.matmul(b, torch.t(b))\n",
    "\n",
    "p_ab = F.softmax(match_ab, dim=1)\n",
    "p_bb = F.softmax(match_bb, dim=1)\n",
    "p_ba = F.softmax(match_ba, dim=1)"
   ]
  },
  {
   "cell_type": "code",
   "execution_count": 395,
   "metadata": {},
   "outputs": [],
   "source": [
    "match_ba_bb = torch.cat([match_ba, match_bb], dim=1)\n",
    "p_ba_bb = torch.clamp(F.softmax(match_ba_bb, dim=1), min=1e-8)"
   ]
  },
  {
   "cell_type": "code",
   "execution_count": 396,
   "metadata": {},
   "outputs": [],
   "source": [
    "N = a.shape[0]\n",
    "M = b.shape[0]\n",
    "Tbar_ul, Tbar_uu = p_ba_bb[:, :N], p_ba_bb[:, N:]"
   ]
  },
  {
   "cell_type": "code",
   "execution_count": 430,
   "metadata": {},
   "outputs": [],
   "source": [
    "middle = torch.inverse(torch.eye(Tbar_uu.shape[1]) - Tbar_uu)# - torch.eye(Tbar_uu.shape[1])"
   ]
  },
  {
   "cell_type": "code",
   "execution_count": 433,
   "metadata": {},
   "outputs": [],
   "source": [
    "middle = torch.eye(Tbar_uu.shape[1])\n",
    "for i in range(1, 3):\n",
    "    middle += torch.matrix_power(Tbar_uu, i)\n",
    "middle /= Tbar_uu.sum(1, keepdim=True)"
   ]
  },
  {
   "cell_type": "code",
   "execution_count": 434,
   "metadata": {},
   "outputs": [],
   "source": [
    "p_aba = torch.matmul(torch.matmul(p_ab, middle), Tbar_ul)"
   ]
  },
  {
   "cell_type": "code",
   "execution_count": 432,
   "metadata": {},
   "outputs": [
    {
     "data": {
      "text/plain": [
       "tensor([[0.0115, 0.0085, 0.0108,  ..., 0.0093, 0.0088, 0.0090],\n",
       "        [0.0093, 0.0101, 0.0103,  ..., 0.0093, 0.0085, 0.0092],\n",
       "        [0.0094, 0.0082, 0.0150,  ..., 0.0095, 0.0084, 0.0092],\n",
       "        ...,\n",
       "        [0.0094, 0.0086, 0.0111,  ..., 0.0118, 0.0089, 0.0093],\n",
       "        [0.0094, 0.0083, 0.0103,  ..., 0.0094, 0.0102, 0.0089],\n",
       "        [0.0089, 0.0083, 0.0103,  ..., 0.0090, 0.0081, 0.0117]])"
      ]
     },
     "execution_count": 432,
     "metadata": {},
     "output_type": "execute_result"
    }
   ],
   "source": [
    "p_aba"
   ]
  },
  {
   "cell_type": "code",
   "execution_count": 437,
   "metadata": {},
   "outputs": [
    {
     "data": {
      "text/plain": [
       "tensor([[0.0151, 0.0088, 0.0112,  ..., 0.0096, 0.0092, 0.0085],\n",
       "        [0.0094, 0.0128, 0.0100,  ..., 0.0097, 0.0083, 0.0090],\n",
       "        [0.0097, 0.0081, 0.0217,  ..., 0.0103, 0.0081, 0.0089],\n",
       "        ...,\n",
       "        [0.0096, 0.0090, 0.0118,  ..., 0.0157, 0.0092, 0.0091],\n",
       "        [0.0098, 0.0083, 0.0100,  ..., 0.0099, 0.0126, 0.0081],\n",
       "        [0.0084, 0.0082, 0.0101,  ..., 0.0090, 0.0074, 0.0153]])"
      ]
     },
     "execution_count": 437,
     "metadata": {},
     "output_type": "execute_result"
    }
   ],
   "source": [
    "p_aba / p_aba.sum(1, keepdim=True)"
   ]
  },
  {
   "cell_type": "code",
   "execution_count": null,
   "metadata": {},
   "outputs": [],
   "source": []
  },
  {
   "cell_type": "code",
   "execution_count": 165,
   "metadata": {},
   "outputs": [],
   "source": [
    "match_ab = torch.matmul(a, torch.t(b))\n",
    "p_ab = F.softmax(match_ab, dim=1)\n",
    "\n",
    "match_ba = torch.t(match_ab)\n",
    "match_bb = torch.matmul(b, torch.t(b))\n",
    "p_bb = torch.softmax(match_bb, dim=1)\n",
    "p_ba = F.softmax(match_ba, dim=1)\n",
    "\n",
    "match_ba_bb = torch.cat([match_ba, match_bb], dim=1)\n",
    "p_ba_bb = torch.clamp(F.softmax(match_ba_bb, dim=1), min=1e-8)\n",
    "N = a.shape[0]\n",
    "M = b.shape[0]\n",
    "Tbar_ul, Tbar_uu = p_ba_bb[:, :N], p_ba_bb[:, N:]\n",
    "I = torch.eye(M)\n",
    "I = I.cuda() if Tbar_uu.is_cuda else I\n",
    "# middle = torch.inverse(I - Tbar_uu + 1e-8)\n",
    "middle = torch.inverse(match_bb + 1e-8)\n",
    "# middle = torch.inverse(I - p_bb + 1e-8)\n",
    "p_aba = torch.matmul(torch.matmul(p_ab, middle), Tbar_ul)\n",
    "p_aba /= p_aba.sum(1, keepdim=True)\n",
    "# p_aba = torch.matmul(torch.matmul(p_ab, p_bb), p_ba)"
   ]
  },
  {
   "cell_type": "code",
   "execution_count": 162,
   "metadata": {},
   "outputs": [
    {
     "data": {
      "text/plain": [
       "tensor([1.0000, 1.0000, 1.0000, 1.0000, 1.0000, 1.0000, 1.0000, 1.0000, 1.0000,\n",
       "        1.0000])"
      ]
     },
     "execution_count": 162,
     "metadata": {},
     "output_type": "execute_result"
    }
   ],
   "source": [
    "p_aba.sum(1)"
   ]
  },
  {
   "cell_type": "code",
   "execution_count": 163,
   "metadata": {},
   "outputs": [
    {
     "data": {
      "text/plain": [
       "tensor([[ 1.2201, -0.3730,  0.6471,  ..., -0.3973, -0.3934, -0.2369],\n",
       "        [-2.3164,  0.3392, -4.5347,  ...,  0.9172,  2.8041, -0.4114],\n",
       "        [ 3.0603,  0.5993,  3.7068,  ..., -0.6661, -5.3733,  2.5896],\n",
       "        ...,\n",
       "        [ 2.4616,  0.9285,  3.8963,  ..., -0.7809, -5.4913,  1.0392],\n",
       "        [-1.4368, -0.3912, -3.5948,  ...,  0.0509,  3.4498, -0.8072],\n",
       "        [-1.6878, -0.0854, -2.4238,  ...,  0.5706,  0.5472, -1.4204]])"
      ]
     },
     "execution_count": 163,
     "metadata": {},
     "output_type": "execute_result"
    }
   ],
   "source": [
    "middle"
   ]
  },
  {
   "cell_type": "code",
   "execution_count": 128,
   "metadata": {},
   "outputs": [
    {
     "data": {
      "text/plain": [
       "tensor([[6.0889, 6.0888, 6.0887,  ..., 6.0888, 6.0890, 6.0888],\n",
       "        [6.0889, 6.0888, 6.0887,  ..., 6.0888, 6.0890, 6.0888],\n",
       "        [6.0889, 6.0888, 6.0887,  ..., 6.0888, 6.0890, 6.0888],\n",
       "        ...,\n",
       "        [6.0889, 6.0888, 6.0887,  ..., 6.0888, 6.0890, 6.0888],\n",
       "        [6.0889, 6.0888, 6.0887,  ..., 6.0888, 6.0890, 6.0888],\n",
       "        [6.0889, 6.0888, 6.0887,  ..., 6.0888, 6.0890, 6.0888]])"
      ]
     },
     "execution_count": 128,
     "metadata": {},
     "output_type": "execute_result"
    }
   ],
   "source": [
    "p_aba"
   ]
  },
  {
   "cell_type": "code",
   "execution_count": 123,
   "metadata": {},
   "outputs": [
    {
     "data": {
      "text/plain": [
       "tensor([[0.0003, 0.0002, 0.0003,  ..., 0.0003, 0.0002, 0.0002],\n",
       "        [0.0002, 0.0003, 0.0003,  ..., 0.0002, 0.0003, 0.0003],\n",
       "        [0.0003, 0.0003, 0.0003,  ..., 0.0002, 0.0002, 0.0003],\n",
       "        ...,\n",
       "        [0.0003, 0.0002, 0.0002,  ..., 0.0003, 0.0002, 0.0003],\n",
       "        [0.0002, 0.0003, 0.0002,  ..., 0.0002, 0.0003, 0.0002],\n",
       "        [0.0002, 0.0003, 0.0003,  ..., 0.0003, 0.0002, 0.0003]])"
      ]
     },
     "execution_count": 123,
     "metadata": {},
     "output_type": "execute_result"
    }
   ],
   "source": [
    "p_bb"
   ]
  },
  {
   "cell_type": "code",
   "execution_count": null,
   "metadata": {},
   "outputs": [],
   "source": [
    "p_ab"
   ]
  },
  {
   "cell_type": "code",
   "execution_count": 113,
   "metadata": {},
   "outputs": [
    {
     "data": {
      "text/plain": [
       "tensor([[1.0100, 0.0100, 0.0100,  ..., 0.0100, 0.0100, 0.0100],\n",
       "        [0.0100, 1.0100, 0.0100,  ..., 0.0100, 0.0100, 0.0100],\n",
       "        [0.0100, 0.0100, 1.0100,  ..., 0.0100, 0.0100, 0.0100],\n",
       "        ...,\n",
       "        [0.0100, 0.0100, 0.0100,  ..., 1.0100, 0.0100, 0.0100],\n",
       "        [0.0100, 0.0100, 0.0100,  ..., 0.0100, 1.0100, 0.0100],\n",
       "        [0.0100, 0.0100, 0.0100,  ..., 0.0100, 0.0100, 1.0100]])"
      ]
     },
     "execution_count": 113,
     "metadata": {},
     "output_type": "execute_result"
    }
   ],
   "source": [
    "middle"
   ]
  },
  {
   "cell_type": "code",
   "execution_count": 114,
   "metadata": {},
   "outputs": [
    {
     "data": {
      "text/plain": [
       "tensor([[0.0002, 0.0002, 0.0002,  ..., 0.0002, 0.0002, 0.0002],\n",
       "        [0.0002, 0.0002, 0.0002,  ..., 0.0002, 0.0002, 0.0002],\n",
       "        [0.0002, 0.0002, 0.0002,  ..., 0.0002, 0.0002, 0.0002],\n",
       "        ...,\n",
       "        [0.0002, 0.0002, 0.0002,  ..., 0.0002, 0.0002, 0.0002],\n",
       "        [0.0002, 0.0002, 0.0002,  ..., 0.0002, 0.0002, 0.0002],\n",
       "        [0.0002, 0.0002, 0.0002,  ..., 0.0002, 0.0002, 0.0002]])"
      ]
     },
     "execution_count": 114,
     "metadata": {},
     "output_type": "execute_result"
    }
   ],
   "source": [
    "Tbar_ul"
   ]
  },
  {
   "cell_type": "code",
   "execution_count": 115,
   "metadata": {},
   "outputs": [
    {
     "data": {
      "text/plain": [
       "tensor([[0.0100, 0.0100, 0.0100,  ..., 0.0100, 0.0100, 0.0100],\n",
       "        [0.0100, 0.0100, 0.0100,  ..., 0.0100, 0.0100, 0.0100],\n",
       "        [0.0100, 0.0100, 0.0100,  ..., 0.0100, 0.0100, 0.0100],\n",
       "        ...,\n",
       "        [0.0100, 0.0100, 0.0100,  ..., 0.0100, 0.0100, 0.0100],\n",
       "        [0.0100, 0.0100, 0.0100,  ..., 0.0100, 0.0100, 0.0100],\n",
       "        [0.0100, 0.0100, 0.0100,  ..., 0.0100, 0.0100, 0.0100]])"
      ]
     },
     "execution_count": 115,
     "metadata": {},
     "output_type": "execute_result"
    }
   ],
   "source": [
    "p_aba"
   ]
  },
  {
   "cell_type": "code",
   "execution_count": 96,
   "metadata": {},
   "outputs": [
    {
     "data": {
      "text/plain": [
       "tensor([[0.5052, 0.4948],\n",
       "        [0.5018, 0.4982]])"
      ]
     },
     "execution_count": 96,
     "metadata": {},
     "output_type": "execute_result"
    }
   ],
   "source": [
    "(p_aba / p_aba.sum(1, keepdim=True))"
   ]
  },
  {
   "cell_type": "code",
   "execution_count": null,
   "metadata": {},
   "outputs": [],
   "source": []
  },
  {
   "cell_type": "code",
   "execution_count": null,
   "metadata": {},
   "outputs": [],
   "source": []
  },
  {
   "cell_type": "code",
   "execution_count": 55,
   "metadata": {},
   "outputs": [],
   "source": [
    "match_ab = torch.matmul(a, torch.t(b))\n",
    "p_ab = F.softmax(match_ab, dim=1)\n",
    "p_ba = F.softmax(torch.t(match_ab), dim=1)\n",
    "p_aba = torch.matmul(p_ab, p_ba)"
   ]
  },
  {
   "cell_type": "code",
   "execution_count": 56,
   "metadata": {},
   "outputs": [
    {
     "data": {
      "text/plain": [
       "tensor([1.0000, 1.0000, 1.0000, 1.0000, 1.0000, 1.0000, 1.0000, 1.0000, 1.0000,\n",
       "        1.0000, 1.0000, 1.0000, 1.0000, 1.0000, 1.0000, 1.0000, 1.0000, 1.0000,\n",
       "        1.0000, 1.0000, 1.0000, 1.0000, 1.0000, 1.0000, 1.0000, 1.0000, 1.0000,\n",
       "        1.0000, 1.0000, 1.0000, 1.0000, 1.0000, 1.0000, 1.0000, 1.0000, 1.0000,\n",
       "        1.0000, 1.0000, 1.0000, 1.0000, 1.0000, 1.0000, 1.0000, 1.0000, 1.0000,\n",
       "        1.0000, 1.0000, 1.0000, 1.0000, 1.0000, 1.0000, 1.0000, 1.0000, 1.0000,\n",
       "        1.0000, 1.0000, 1.0000, 1.0000, 1.0000, 1.0000, 1.0000, 1.0000, 1.0000,\n",
       "        1.0000, 1.0000, 1.0000, 1.0000, 1.0000, 1.0000, 1.0000, 1.0000, 1.0000,\n",
       "        1.0000, 1.0000, 1.0000, 1.0000, 1.0000, 1.0000, 1.0000, 1.0000, 1.0000,\n",
       "        1.0000, 1.0000, 1.0000, 1.0000, 1.0000, 1.0000, 1.0000, 1.0000, 1.0000,\n",
       "        1.0000, 1.0000, 1.0000, 1.0000, 1.0000, 1.0000, 1.0000, 1.0000, 1.0000,\n",
       "        1.0000])"
      ]
     },
     "execution_count": 56,
     "metadata": {},
     "output_type": "execute_result"
    }
   ],
   "source": [
    "p_aba.sum(1)"
   ]
  },
  {
   "cell_type": "code",
   "execution_count": null,
   "metadata": {},
   "outputs": [],
   "source": []
  },
  {
   "cell_type": "code",
   "execution_count": 139,
   "metadata": {},
   "outputs": [
    {
     "ename": "NameError",
     "evalue": "name 'n' is not defined",
     "output_type": "error",
     "traceback": [
      "\u001b[0;31m---------------------------------------------------------------------------\u001b[0m",
      "\u001b[0;31mNameError\u001b[0m                                 Traceback (most recent call last)",
      "\u001b[0;32m<ipython-input-139-b438b0d218cb>\u001b[0m in \u001b[0;36m<module>\u001b[0;34m\u001b[0m\n\u001b[0;32m----> 1\u001b[0;31m \u001b[0mX\u001b[0m \u001b[0;34m=\u001b[0m \u001b[0mtorch\u001b[0m\u001b[0;34m.\u001b[0m\u001b[0mrandn\u001b[0m\u001b[0;34m(\u001b[0m\u001b[0;34m[\u001b[0m\u001b[0mn\u001b[0m\u001b[0;34m,\u001b[0m \u001b[0mp\u001b[0m\u001b[0;34m]\u001b[0m\u001b[0;34m)\u001b[0m \u001b[0;34m*\u001b[0m \u001b[0;36m0.5\u001b[0m\u001b[0;34m\u001b[0m\u001b[0;34m\u001b[0m\u001b[0m\n\u001b[0m\u001b[1;32m      2\u001b[0m \u001b[0;31m# X = torch.softmax(X, 0)\u001b[0m\u001b[0;34m\u001b[0m\u001b[0;34m\u001b[0m\u001b[0;34m\u001b[0m\u001b[0m\n\u001b[1;32m      3\u001b[0m \u001b[0mB\u001b[0m \u001b[0;34m=\u001b[0m \u001b[0mtorch\u001b[0m\u001b[0;34m.\u001b[0m\u001b[0mmatmul\u001b[0m\u001b[0;34m(\u001b[0m\u001b[0mX\u001b[0m\u001b[0;34m.\u001b[0m\u001b[0mT\u001b[0m\u001b[0;34m,\u001b[0m \u001b[0mX\u001b[0m\u001b[0;34m)\u001b[0m\u001b[0;34m\u001b[0m\u001b[0;34m\u001b[0m\u001b[0m\n\u001b[1;32m      4\u001b[0m \u001b[0mB\u001b[0m \u001b[0;34m=\u001b[0m \u001b[0mB\u001b[0m\u001b[0;34m.\u001b[0m\u001b[0mcuda\u001b[0m\u001b[0;34m(\u001b[0m\u001b[0;34m)\u001b[0m\u001b[0;34m\u001b[0m\u001b[0;34m\u001b[0m\u001b[0m\n\u001b[1;32m      5\u001b[0m \u001b[0mB\u001b[0m \u001b[0;34m=\u001b[0m \u001b[0mB\u001b[0m\u001b[0;34m.\u001b[0m\u001b[0mcpu\u001b[0m\u001b[0;34m(\u001b[0m\u001b[0;34m)\u001b[0m\u001b[0;34m\u001b[0m\u001b[0;34m\u001b[0m\u001b[0m\n",
      "\u001b[0;31mNameError\u001b[0m: name 'n' is not defined"
     ]
    }
   ],
   "source": [
    "X = torch.randn([n, p]) * 0.5\n",
    "# X = torch.softmax(X, 0)\n",
    "B = torch.matmul(X.T, X)\n",
    "B = B.cuda()\n",
    "B = B.cpu()\n",
    "now = time.time()\n",
    "B = torch.inverse(B)\n",
    "time.time() - now"
   ]
  },
  {
   "cell_type": "code",
   "execution_count": null,
   "metadata": {},
   "outputs": [],
   "source": []
  },
  {
   "cell_type": "code",
   "execution_count": 7,
   "metadata": {},
   "outputs": [],
   "source": [
    "new_col = v = torch.randn([n, 1]) * 0.5\n",
    "# new_col = v = torch.softmax(torch.randn([n, 1]) * 0.5, 0)"
   ]
  },
  {
   "cell_type": "code",
   "execution_count": 8,
   "metadata": {},
   "outputs": [],
   "source": [
    "def add_new_col_to_inverse(X, old_inverse, new_col):\n",
    "    B = old_inverse\n",
    "    v = new_col\n",
    "    \n",
    "    u1 = torch.matmul(X.T, v)\n",
    "    u2 = torch.matmul(B, u1)\n",
    "    F22inv = 1. / (torch.matmul(v.T, v) - torch.matmul(u1.T, u2))\n",
    "    u3 = F22inv * u2\n",
    "    F11inv = B + F22inv * u2 * u2.T\n",
    "    Bnew = torch.cat([\n",
    "        torch.cat([F11inv, -u3], 1),\n",
    "        torch.cat([-u3.T, F22inv], 1)\n",
    "    ], 0)\n",
    "    return Bnew"
   ]
  },
  {
   "cell_type": "code",
   "execution_count": 9,
   "metadata": {},
   "outputs": [
    {
     "data": {
      "text/plain": [
       "0.338165283203125"
      ]
     },
     "execution_count": 9,
     "metadata": {},
     "output_type": "execute_result"
    }
   ],
   "source": [
    "now = time.time()\n",
    "add_new_col_to_inverse(B, v)\n",
    "time.time() - now"
   ]
  },
  {
   "cell_type": "code",
   "execution_count": 29,
   "metadata": {},
   "outputs": [
    {
     "data": {
      "text/plain": [
       "tensor([[ 1.2506, -0.6256,  0.1035,  1.0205],\n",
       "        [-0.6256,  0.8223,  0.1486, -0.5141],\n",
       "        [ 0.1035,  0.1486,  0.4402,  0.3598],\n",
       "        [ 1.0205, -0.5141,  0.3598,  2.0012]])"
      ]
     },
     "execution_count": 29,
     "metadata": {},
     "output_type": "execute_result"
    }
   ],
   "source": [
    "Xnew = torch.cat([X, v], 1)\n",
    "torch.inverse(torch.matmul(Xnew.T, Xnew))"
   ]
  }
 ],
 "metadata": {
  "kernelspec": {
   "display_name": "Python 3",
   "language": "python",
   "name": "python3"
  },
  "language_info": {
   "codemirror_mode": {
    "name": "ipython",
    "version": 3
   },
   "file_extension": ".py",
   "mimetype": "text/x-python",
   "name": "python",
   "nbconvert_exporter": "python",
   "pygments_lexer": "ipython3",
   "version": "3.6.9"
  }
 },
 "nbformat": 4,
 "nbformat_minor": 2
}
