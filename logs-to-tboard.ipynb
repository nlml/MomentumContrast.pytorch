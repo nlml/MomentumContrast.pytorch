{
 "cells": [
  {
   "cell_type": "code",
   "execution_count": 16,
   "metadata": {},
   "outputs": [
    {
     "name": "stdout",
     "output_type": "stream",
     "text": [
      "logs/mnist/latent24-mom999-walker-no-norm-queue-lim4096-latest-wnorm-moco-entmin-seed2/train.csv did not exist!\n"
     ]
    }
   ],
   "source": [
    "import tensorboardX\n",
    "import pandas as pd\n",
    "import numpy as np\n",
    "import os\n",
    "from tensorboardX import SummaryWriter\n",
    "\n",
    "\n",
    "from shutil import rmtree\n",
    "os.makedirs('tboard', exist_ok=True)\n",
    "rmtree('tboard')\n",
    "\n",
    "def write_data(writer, ds, run, data, group):\n",
    "    d = data.to_dict()\n",
    "    del d['Unnamed: 0']\n",
    "    for k in list(d.keys()):\n",
    "        if np.all(data[k].values==0):\n",
    "            print(k)\n",
    "            del data[k]\n",
    "    for idx in range(data.shape[0]):\n",
    "        epoch = idx + 1\n",
    "        for k, v in d.items():\n",
    "            writer.add_scalar(f'{group}/{k}', v[idx], epoch)\n",
    "\n",
    "for ds in os.listdir('logs'):\n",
    "    ds_dir = os.path.join('logs', ds)\n",
    "    for run in os.listdir(ds_dir):\n",
    "        writer = SummaryWriter(f\"tboard/{ds}/{run}\")\n",
    "        for train_or_test in [\"train\", \"valid\"]:\n",
    "            csv_path = os.path.join(ds_dir, run, f\"{train_or_test}.csv\")\n",
    "            if not os.path.exists(csv_path):\n",
    "                print(csv_path, 'did not exist!')\n",
    "                continue\n",
    "            data = pd.read_csv(csv_path)\n",
    "            write_data(writer, ds, run, data, train_or_test)"
   ]
  },
  {
   "cell_type": "code",
   "execution_count": null,
   "metadata": {},
   "outputs": [],
   "source": []
  }
 ],
 "metadata": {
  "kernelspec": {
   "display_name": "Python 3",
   "language": "python",
   "name": "python3"
  },
  "language_info": {
   "codemirror_mode": {
    "name": "ipython",
    "version": 3
   },
   "file_extension": ".py",
   "mimetype": "text/x-python",
   "name": "python",
   "nbconvert_exporter": "python",
   "pygments_lexer": "ipython3",
   "version": "3.6.8"
  }
 },
 "nbformat": 4,
 "nbformat_minor": 2
}
