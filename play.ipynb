{
 "cells": [
  {
   "cell_type": "code",
   "execution_count": 1,
   "metadata": {},
   "outputs": [],
   "source": [
    "%load_ext autoreload\n",
    "%autoreload 2"
   ]
  },
  {
   "cell_type": "code",
   "execution_count": 1,
   "metadata": {},
   "outputs": [],
   "source": [
    "import argparse\n",
    "import torch\n",
    "import torch.nn as nn\n",
    "import torch.nn.functional as F\n",
    "from torchvision import datasets, transforms\n",
    "import numpy as np\n",
    "import tqdm\n",
    "from sklearn.manifold import TSNE\n",
    "import matplotlib.pyplot as plt\n",
    "from matplotlib.offsetbox import OffsetImage, AnnotationBbox\n",
    "from network import Net\n",
    "\n",
    "\n",
    "class DotMap:\n",
    "    pass\n",
    "args = DotMap()\n",
    "args.model = 'result/model.pth'\n"
   ]
  },
  {
   "cell_type": "code",
   "execution_count": 72,
   "metadata": {},
   "outputs": [],
   "source": [
    "SUP_WEIGHT = 1.0\n",
    "SUP_BATCH_SIZE = 50\n",
    "train_mnist_sup = datasets.MNIST('./', train=True, download=True, transform=transform)\n",
    "train_mnist_sup.data = train_mnist_sup.data[:100]\n",
    "train_mnist_sup.targets = train_mnist_sup.targets[:100]\n",
    "train_loader_sup = torch.utils.data.DataLoader(train_mnist_sup, batch_size=SUP_BATCH_SIZE, shuffle=True)\n",
    "train_loader_sup.iter = iter(train_loader_sup)"
   ]
  },
  {
   "cell_type": "code",
   "execution_count": 88,
   "metadata": {},
   "outputs": [
    {
     "name": "stdout",
     "output_type": "stream",
     "text": [
      "torch.Size([50, 1, 28, 28])\n"
     ]
    }
   ],
   "source": [
    "try:\n",
    "    x = next(train_loader_sup.iter)\n",
    "except StopIteration:\n",
    "    train_loader_sup.iter = iter(train_loader_sup)\n",
    "    x = next(train_loader_sup.iter)\n"
   ]
  },
  {
   "cell_type": "code",
   "execution_count": 36,
   "metadata": {},
   "outputs": [],
   "source": []
  },
  {
   "cell_type": "code",
   "execution_count": 38,
   "metadata": {},
   "outputs": [
    {
     "name": "stdout",
     "output_type": "stream",
     "text": [
      "torch.Size([100, 1, 28, 28])\n"
     ]
    }
   ],
   "source": [
    "for x, y in train_loader:\n",
    "    print(x.shape)"
   ]
  },
  {
   "cell_type": "code",
   "execution_count": null,
   "metadata": {},
   "outputs": [],
   "source": []
  },
  {
   "cell_type": "code",
   "execution_count": 10,
   "metadata": {},
   "outputs": [],
   "source": [
    "import torch\n",
    "import torch.utils.data as tud\n",
    "\n",
    "\n",
    "def get_all_x(mnist):\n",
    "    loader = tud.DataLoader(mnist, batch_size=100, num_workers=8)\n",
    "    all_x = []\n",
    "    for x, y in tqdm.tqdm(loader):\n",
    "        with torch.no_grad():\n",
    "            all_x.append(model(x.to(device)).cpu())\n",
    "    return torch.cat(all_x)"
   ]
  }
 ],
 "metadata": {
  "kernelspec": {
   "display_name": "Python 3",
   "language": "python",
   "name": "python3"
  },
  "language_info": {
   "codemirror_mode": {
    "name": "ipython",
    "version": 3
   },
   "file_extension": ".py",
   "mimetype": "text/x-python",
   "name": "python",
   "nbconvert_exporter": "python",
   "pygments_lexer": "ipython3",
   "version": "3.6.8"
  }
 },
 "nbformat": 4,
 "nbformat_minor": 2
}
